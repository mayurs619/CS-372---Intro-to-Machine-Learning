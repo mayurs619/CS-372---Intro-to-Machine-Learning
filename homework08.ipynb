{
 "cells": [
  {
   "cell_type": "markdown",
   "metadata": {
    "cell_marker": "\"\"\"",
    "editable": true,
    "slideshow": {
     "slide_type": ""
    },
    "tags": [
     "AST"
    ]
   },
   "source": [
    "# COMPSCI 371 Homework 8"
   ]
  },
  {
   "cell_type": "markdown",
   "metadata": {
    "cell_marker": "\"\"\"",
    "editable": true,
    "slideshow": {
     "slide_type": ""
    },
    "tags": [
     "T"
    ]
   },
   "source": [
    "_**Group Members:**_ Mayur Sekhar, Jai Kasera, Rithvik Neti"
   ]
  },
  {
   "cell_type": "markdown",
   "metadata": {
    "cell_marker": "\"\"\"",
    "tags": [
     "AT"
    ]
   },
   "source": [
    "### Problem 0 (3 points)"
   ]
  },
  {
   "cell_type": "markdown",
   "metadata": {
    "cell_marker": "\"\"\"",
    "editable": true,
    "slideshow": {
     "slide_type": ""
    },
    "tags": [
     "AST"
    ]
   },
   "source": [
    "## Part 1: MLP Back-Propagation: Mathematics"
   ]
  },
  {
   "cell_type": "markdown",
   "metadata": {
    "cell_marker": "\"\"\"",
    "editable": true,
    "slideshow": {
     "slide_type": ""
    },
    "tags": [
     "AST"
    ]
   },
   "source": [
    "### Problem 1.1 (Exam Style)"
   ]
  },
  {
   "cell_type": "markdown",
   "metadata": {},
   "source": [
    "Mathematical expressions:\n",
    "\n",
    "$l_q(y,z) = \\frac{1}{2}\\sum_{i=0}^n (z_i-y_i)^2$\n",
    "\n",
    "$\\frac{\\partial l_q}{\\partial z_i} = \\frac{\\partial}{\\partial z_i}(\\frac{1}{2}\\sum_{i=0}^n (z_i-y_i)^2) = 2*\\frac{1}{2}(z_i-y_i) = z_i-y_i$\n",
    "\n",
    "Thus, $\\frac{\\partial l_q}{\\partial z_i} = z_i-y_i$\n",
    "\n",
    "$l_h(y,z) = log(\\sum_{j=0}^{n-1}e^{z_j}) - z_y$\n",
    "\n",
    "$\\frac{\\partial l_h}{\\partial z_i} = \\frac{e^{z_j}}{log(\\sum_{j=0}^{n-1}e^{z_j})} - \\delta_{i=y}$\n",
    "\n",
    "Numerical values:\n",
    "\n",
    "When $y=(-2,1)$ and $ z=(4,1)$\n",
    "\n",
    "$l_q(y,z) = \\frac{1}{2}*36 = 18$\n",
    "\n",
    "$g_q(y,z) = (6,0)$\n",
    "\n",
    "When $y=1$ and $z=(-1,0,3)$\n",
    "\n",
    "$l_h(y,z) = log(e^{-1}+e^0+e^3) - 0 = log(e^{-1}+1+e^3) = 3.066$\n",
    "\n",
    "$g_{h,0}(y,z) = \\frac{e^{-1}}{(e^{-1}+e^0+e^3)} = 0.01715$\n",
    "\n",
    "$g_{h,1}(y,z) = \\frac{e^{0}}{(e^{-1}+e^0+e^3)} -1 = -0.9534$\n",
    "\n",
    "$g_{h,2}(y,z) = \\frac{e^{3}}{(e^{-1}+e^0+e^3)} = 0.9362$\n",
    "\n",
    "$g_h(y,z) = (0.01715, -0.9534, 0.9362)$\n",
    "\n"
   ]
  },
  {
   "cell_type": "code",
   "execution_count": 13,
   "metadata": {},
   "outputs": [
    {
     "name": "stdout",
     "output_type": "stream",
     "text": [
      "l_h = 3.066, g_h0 = 0.01715, g_h1 = -0.9534, g_h2 = 0.9362\n"
     ]
    }
   ],
   "source": [
    "import math \n",
    "l_h = math.log(1/math.e + 1 + math.e**3)\n",
    "\n",
    "g_h0 = ((math.e**-1)/((1/math.e + 1 + math.e**3)))\n",
    "g_h1 = ((math.e**0)/((1/math.e + 1 + math.e**3))) - 1\n",
    "g_h2 = ((math.e**3)/((1/math.e + 1 + math.e**3))) \n",
    "print(f'l_h = {l_h:.4g}, g_h0 = {g_h0:.4g}, g_h1 = {g_h1:.4g}, g_h2 = {g_h2:.4g}')"
   ]
  },
  {
   "cell_type": "markdown",
   "metadata": {
    "cell_marker": "\"\"\"",
    "editable": true,
    "slideshow": {
     "slide_type": ""
    },
    "tags": [
     "AST"
    ]
   },
   "source": [
    "### Problem 1.2 (Exam Style)"
   ]
  },
  {
   "cell_type": "markdown",
   "metadata": {},
   "source": [
    "$\\frac{\\partial y_i}{\\partial x_j} = 1$ if $i==j$ and $x_i>0$, $0$ otherwise\n",
    "\n",
    "When $x=(-2,1,3), $\n",
    "\n",
    "$p(x) = (0,1,3)$\n",
    "\n",
    "$J_x = \\begin{pmatrix}\n",
    "0 & 0 & 0\\\\\n",
    "0 & 1 & 0\\\\\n",
    "0 & 0 & 1\n",
    "\\end{pmatrix}$"
   ]
  },
  {
   "cell_type": "markdown",
   "metadata": {
    "cell_marker": "\"\"\"",
    "editable": true,
    "slideshow": {
     "slide_type": ""
    },
    "tags": [
     "AST"
    ]
   },
   "source": [
    "### Problem 1.3 (Exam Style)"
   ]
  },
  {
   "cell_type": "markdown",
   "metadata": {},
   "source": [
    "$\\frac{\\partial y_i}{\\partial x_j} = v_{ij}$\n",
    "\n",
    "$\\frac{\\partial y_i}{\\partial v_{jk}} = \\delta _{i=j} x_k$\n",
    "\n",
    "$\\frac{\\partial y_i}{\\partial b_j} = \\delta_{i=j}$\n",
    "\n",
    "$y= Vx+b = \\begin{pmatrix}\n",
    "3 & 0\\\\\n",
    "-1 & 4\\\\\n",
    "2 & 5\n",
    "\\end{pmatrix} \\begin{pmatrix}\n",
    "-2\\\\\n",
    "1\n",
    "\\end{pmatrix} + \\begin{pmatrix}\n",
    "3\\\\\n",
    "-2\\\\\n",
    "1\n",
    "\\end{pmatrix} = \\begin{pmatrix}\n",
    "-6+3\\\\\n",
    "6-2\\\\\n",
    "1+1\n",
    "\\end{pmatrix} = \\begin{pmatrix}\n",
    "-3\\\\\n",
    "4\\\\\n",
    "2\n",
    "\\end{pmatrix}$\n",
    "\n",
    "$J_x = \n",
    "\\begin{pmatrix} 3 & 0\\\\ -1&4\\\\2&5 \\end{pmatrix}\n",
    "$\n",
    "\n",
    "$J_v = \\begin{bmatrix}\n",
    "\\begin{pmatrix} -2&1\\\\ 0&0 \\\\0&0 \\end{pmatrix}, \\begin{pmatrix} 0&0\\\\ -2&1\\\\0&0\\end{pmatrix}, \\begin{pmatrix} 0&0\\\\ 0&0\\\\-2&1\\end{pmatrix}\n",
    "\\end{bmatrix}\n",
    "$\n",
    "\n",
    "$J_b = \\begin{pmatrix} 1 &0&0\\\\0&1&0\\\\0&0&1\\end{pmatrix}$"
   ]
  },
  {
   "cell_type": "markdown",
   "metadata": {
    "cell_marker": "\"\"\"",
    "editable": true,
    "slideshow": {
     "slide_type": ""
    },
    "tags": [
     "AST"
    ]
   },
   "source": [
    "### Problem 1.4 (Exam Style)"
   ]
  },
  {
   "cell_type": "markdown",
   "metadata": {
    "cell_marker": "r\"\"\"",
    "editable": true,
    "slideshow": {
     "slide_type": ""
    },
    "tags": [
     "AT"
    ]
   },
   "source": [
    "\\begin{align*}\n",
    "\\mathbf{g}_{V_2} &= \\mathbf{g}_{\\mathbf{z}} \\cdot J_{V_2} \\\\\n",
    "\\mathbf{g}_{\\mathbf{b}_2} &= \\mathbf{g}_{\\mathbf{z}} \\cdot J_{b_2}\\\\\n",
    "\\mathbf{g}_{\\mathbf{q}} &= \\mathbf{g}_{\\mathbf{z}} \\cdot J_{q}\\\\\n",
    "\\mathbf{g}_{\\mathbf{p}} &= \\mathbf{g}_{\\mathbf{q}} \\cdot J_{p}\\\\\n",
    "\\mathbf{g}_{V_1} &= \\mathbf{g}_{\\mathbf{p}} \\cdot J_{V_1} \\\\\n",
    "\\mathbf{g}_{\\mathbf{b}_1} &= \\mathbf{g}_{\\mathbf{p}} \\cdot J_{b_1}\\\\\n",
    "\\mathbf{g}_{\\mathbf{x}} &= \\mathbf{g}_{\\mathbf{p}} \\cdot J_{x}\\\\\n",
    "\\end{align*}\n"
   ]
  },
  {
   "cell_type": "markdown",
   "metadata": {
    "cell_marker": "\"\"\"",
    "editable": true,
    "slideshow": {
     "slide_type": ""
    },
    "tags": [
     "AST"
    ]
   },
   "source": [
    "### Problem 1.5 (Exam Style)"
   ]
  },
  {
   "cell_type": "markdown",
   "metadata": {
    "cell_marker": "r\"\"\"",
    "editable": true,
    "slideshow": {
     "slide_type": ""
    },
    "tags": [
     "T"
    ]
   },
   "source": [
    "Forward pass:\n",
    "\n",
    "\\begin{align*}\n",
    "\\mathbf{x} &= (-1,2)\\\\\n",
    "\\mathbf{p} &= (-2, 5, 3)\\\\\n",
    "\\mathbf{q} &= (0,5,3)\\\\\n",
    "\\mathbf{z} &= (0,3)\\\\\n",
    "\\lambda &= \\frac{1}{2}((0+4)^2 + (3-1)^2) = \\frac{1}{2}(16+4) = 10\n",
    "\\end{align*}\n"
   ]
  },
  {
   "cell_type": "markdown",
   "metadata": {
    "cell_marker": "r\"\"\"",
    "editable": true,
    "slideshow": {
     "slide_type": ""
    },
    "tags": [
     "T"
    ]
   },
   "source": [
    "Local Jacobians:\n",
    "\n",
    "\\begin{align*}\n",
    "J_{V_2} &= \\begin{bmatrix}\\begin{pmatrix} 0&5&3 \\\\ 0&0&0 \\end{pmatrix}, \\begin{pmatrix} 0&0&0 \\\\ 0&5&3 \\end{pmatrix}\\\\ \\end{bmatrix} \\\\\n",
    "J_{\\mathbf{b}_2} &= \\begin{pmatrix} 1&0 \\\\ 0&1 \\end{pmatrix} \\\\\n",
    "J_{\\mathbf{q}} &= \\begin{pmatrix} 2 & 1 & -3 \\\\ 3 & -1 & 2 \\end{pmatrix}\\\\\n",
    "J_{\\mathbf{p}} &= \\begin{pmatrix} 0&0&0 \\\\ 0&1&0 \\\\ 0&0&1 \\end{pmatrix}\\\\\n",
    "J_{V_1} &= \\begin{bmatrix}\\begin{pmatrix} -1&2 \\\\ 0&0 \\\\ 0&0\\end{pmatrix}, \\begin{pmatrix} 0&0 \\\\ -1&2 \\\\ 0&0 \\end{pmatrix}, \\begin{pmatrix} 0&0 \\\\ 0&0 \\\\ -1&2 \\end{pmatrix} \\end{bmatrix} \\\\\n",
    "J_{\\mathbf{b}_1} &= \\begin{pmatrix} 1&0&0 \\\\ 0&1&0 \\\\ 0&0&1 \\end{pmatrix}\\\\\n",
    "\\end{align*}"
   ]
  },
  {
   "cell_type": "markdown",
   "metadata": {
    "cell_marker": "r\"\"\"",
    "editable": true,
    "slideshow": {
     "slide_type": ""
    },
    "tags": [
     "T"
    ]
   },
   "source": [
    "Gradients:\n",
    "\n",
    "\\begin{align*}\n",
    "\\mathbf{g}_{\\mathbf{z}} &= z-y = (4,2)\\\\\n",
    "\\mathbf{g}_{V_2} &= g_z \\cdot J_{V_2} = \\begin{pmatrix} 0 & 20 & 12 \\\\ 0 & 10 & 6 \\end{pmatrix} \\\\\n",
    "\\mathbf{g}_{\\mathbf{b}_2} &= g_z \\cdot J_{b_2} = (4,2)\\\\\n",
    "\\mathbf{g}_{\\mathbf{q}} &= g_z\\cdot J_q = (14, 2, -8)\\\\\n",
    "\\mathbf{g}_{\\mathbf{p}} &= (0,2,-8)\\\\\n",
    "\\mathbf{g}_{V_1} &= \\begin{pmatrix} 0 & 0 \\\\ -2 & 4 \\\\ 8 & -16 \\end{pmatrix}\\\\\n",
    "\\mathbf{g}_{\\mathbf{b}_1} &= (0,2,-8)\n",
    "\\end{align*}\n"
   ]
  },
  {
   "cell_type": "markdown",
   "metadata": {
    "cell_marker": "\"\"\"",
    "editable": true,
    "slideshow": {
     "slide_type": ""
    },
    "tags": [
     "AST"
    ]
   },
   "source": [
    "## Part 2: MLP Back-Propagation: Code "
   ]
  },
  {
   "cell_type": "code",
   "execution_count": 110,
   "metadata": {
    "editable": true,
    "slideshow": {
     "slide_type": ""
    },
    "tags": [
     "AST"
    ]
   },
   "outputs": [],
   "source": [
    "import numpy as np\n",
    "from types import SimpleNamespace\n",
    "\n",
    "tests = [\n",
    "    SimpleNamespace(\n",
    "        v1=np.array(((2, -1), (0, 3), (2, 1)), dtype=float),\n",
    "        b1=np.array((2, -1, 3), dtype=float),\n",
    "        v2=np.array(((2, 1, -3), (3, -1, 2)), dtype=float),\n",
    "        b2=np.array((4, 2), dtype=float),\n",
    "        x=np.array((-1, 2), dtype=float),\n",
    "        y=np.array((-4, 1), dtype=float),\n",
    "        loss='quadratic'\n",
    "    ),\n",
    "    SimpleNamespace(\n",
    "        v1=np.array(((2, -1, 0), (0, 1, 3)), dtype=float),\n",
    "        b1=np.array((2, -1), dtype=float),\n",
    "        v2=np.array((2, -3), dtype=float),\n",
    "        b2=np.array(4, dtype=float),\n",
    "        x=np.array((-1, 2, 0), dtype=float),\n",
    "        y=np.array(3, dtype=float),\n",
    "        loss='quadratic'\n",
    "    ),\n",
    "    SimpleNamespace(\n",
    "        v1=np.array(((1, 2), (1, 0)), dtype=float),\n",
    "        b1=np.array((-5, 2), dtype=float),\n",
    "        v2=np.array(((2, -3), (1, 0), (-1, -1)), dtype=float),\n",
    "        b2=np.array((1, 3, -2), dtype=float),\n",
    "        x=np.array((-1, 2), dtype=float),\n",
    "        y=np.array(2, dtype=int),\n",
    "        loss='hinge'\n",
    "    )\n",
    "]"
   ]
  },
  {
   "cell_type": "markdown",
   "metadata": {
    "cell_marker": "\"\"\"",
    "editable": true,
    "slideshow": {
     "slide_type": ""
    },
    "tags": [
     "AST"
    ]
   },
   "source": [
    "### Problem 2.1"
   ]
  },
  {
   "cell_type": "code",
   "execution_count": 111,
   "metadata": {
    "editable": true,
    "slideshow": {
     "slide_type": ""
    },
    "tags": [
     "AST"
    ]
   },
   "outputs": [],
   "source": [
    "def array_string(a):\n",
    "    if np.isscalar(a) or a.ndim == 0:\n",
    "        return '{:.4g}'.format(a)\n",
    "    return '(' + ', '.join([array_string(x) for x in a]) + ')'"
   ]
  },
  {
   "cell_type": "code",
   "execution_count": 112,
   "metadata": {
    "editable": true,
    "slideshow": {
     "slide_type": ""
    },
    "tags": [
     "AST"
    ]
   },
   "outputs": [],
   "source": [
    "def dot(a, b):\n",
    "    return a * b if np.isscalar(a) or np.isscalar(b)\\\n",
    "        else np.einsum('...i,i...', a, b)"
   ]
  },
  {
   "cell_type": "code",
   "execution_count": 118,
   "metadata": {},
   "outputs": [],
   "source": [
    "class Layer():\n",
    "    def __init__(self):\n",
    "        self.x = None\n",
    "\n",
    "    def forward(self, x):\n",
    "        pass\n",
    "\n",
    "    def backward(self, g):\n",
    "        pass\n",
    "\n",
    "    def training(self):\n",
    "        self.keep = True\n",
    "\n",
    "    def inference(self):\n",
    "        self.keep = False\n",
    "\n",
    "class AffineLayer(Layer):\n",
    "    def __init__(self, v, b, name):\n",
    "        self.v = v\n",
    "        self.b = b\n",
    "        self.name = name\n",
    "\n",
    "    def forward(self, x):\n",
    "        if self.keep:\n",
    "            self.x = x\n",
    "            \n",
    "        y = (self.v @ x) + self.b\n",
    "        return y\n",
    "\n",
    "    def backward(self, g):\n",
    "        n = 1 if len(self.b.shape)==0 else self.b.shape[0]\n",
    "        jv = np.eye(n)[:, :, np.newaxis] * self.x\n",
    "        jb = np.eye(n)\n",
    "        jx = self.v\n",
    "        self.jacobian = [jv,jb,jx]\n",
    "        \n",
    "        gv = dot(g,jv)\n",
    "        gb = dot(g,jb)\n",
    "        gx = dot(g,jx)\n",
    "        self.gradient = [gv,gb,gx]\n",
    "\n",
    "        return gx\n",
    "\n",
    "class ReLULayer(Layer):\n",
    "    def __init__(self, name):\n",
    "        self.name = name\n",
    "\n",
    "    def forward(self, x):\n",
    "        if self.keep:\n",
    "            self.x = x\n",
    "\n",
    "        y = np.maximum(0,x)\n",
    "        return y\n",
    "\n",
    "    def backward(self, g):\n",
    "        n = 1 if len(self.x.shape)==0 else self.x.shape[0]\n",
    "        jx = np.eye(n) * (self.x > 0).astype(float)\n",
    "        self.jacobian = [jx]\n",
    "        \n",
    "        gx = dot(g,jx)\n",
    "        self.gradient = [gx]\n",
    "        \n",
    "        return gx\n",
    "\n",
    "class QuadraticLoss():\n",
    "    def forward(self, z, y):\n",
    "        l = np.sum((z-y)**2)/2\n",
    "        return l\n",
    "\n",
    "    def backward(self, z, y):\n",
    "        gz = z-y        \n",
    "        return gz\n",
    "\n",
    "class HingeLoss():\n",
    "    def forward(self, z, y):\n",
    "        l = np.log(np.sum(np.e**z))-z[y]\n",
    "        return l\n",
    "\n",
    "    def backward(self, z, y):\n",
    "        z_ast = np.zeros(z.shape[0])\n",
    "        z_ast[y] = 1\n",
    "        gz = (np.e**z)/np.sum(np.e**z) - z_ast\n",
    "        return gz\n",
    "\n",
    "class MLP():\n",
    "    def __init__(self, layers, loss, decision):\n",
    "        self.decision = decision\n",
    "        self.layers = layers\n",
    "        self.loss = loss\n",
    "        self.z = None\n",
    "        self.l = None\n",
    "        self.gz = None\n",
    "\n",
    "    def inference(self):\n",
    "        self.keep = False\n",
    "        for layer in self.layers:\n",
    "            layer.inference()\n",
    "\n",
    "    def training(self):\n",
    "        self.keep = True\n",
    "        for layer in self.layers:\n",
    "            layer.training()\n",
    "\n",
    "    def forward(self, x, y=None):\n",
    "        if y is None:\n",
    "            self.inference()\n",
    "        else:\n",
    "            self.training()\n",
    "\n",
    "        for layer in self.layers:\n",
    "            x = layer.forward(x)\n",
    "        z = x\n",
    "\n",
    "        if y is None:\n",
    "            return self.decision(z)\n",
    "        else:\n",
    "            self.z = z\n",
    "            self.l = self.loss.forward(z,y)\n",
    "            return self.l\n",
    "\n",
    "    def backward(self, y):\n",
    "        g = self.loss.backward(self.z,y)\n",
    "        self.gz = g\n",
    "        \n",
    "        for layer in reversed(self.layers):\n",
    "            g = layer.backward(g)\n",
    "\n",
    "def run_test(t):\n",
    "    layers = [\n",
    "        AffineLayer(t.v1, t.b1, \"Affine Layer 1\"),\n",
    "        ReLULayer(\"ReLU Layer\"),\n",
    "        AffineLayer(t.v2, t.b2, \"Affine Layer 2\")\n",
    "    ]\n",
    "    \n",
    "    if t.loss == \"quadratic\":\n",
    "        loss = QuadraticLoss()\n",
    "        decision = lambda x: x\n",
    "    else:\n",
    "        loss = HingeLoss()\n",
    "        decision = np.argmax\n",
    "\n",
    "    mlp = MLP(layers, loss, decision)\n",
    "\n",
    "    y_hat = mlp.forward(t.x)\n",
    "    l = mlp.forward(t.x, t.y)\n",
    "    mlp.backward(t.y)\n",
    "\n",
    "    return y_hat, mlp\n",
    "\n",
    "def snapshot(t):\n",
    "    y_hat, mlp = run_test(t)\n",
    "\n",
    "    layers = mlp.layers\n",
    "    res = {'inputs':{}, 'jacobians':{}, 'gradients':{}}\n",
    "    \n",
    "    inputs = res['inputs']\n",
    "    inputs['x'] = layers[0].x\n",
    "    inputs['p'] = layers[1].x\n",
    "    inputs['q'] = layers[2].x\n",
    "    inputs['z'] = mlp.z\n",
    "    inputs['lambda'] = mlp.l\n",
    "    \n",
    "    jacobians = res['jacobians']\n",
    "    jacobians['jv2'] = layers[2].jacobian[0]\n",
    "    jacobians['jb2'] = layers[2].jacobian[1]\n",
    "    jacobians['jq'] = layers[2].jacobian[2]\n",
    "    jacobians['jp'] = layers[1].jacobian[0]\n",
    "    jacobians['jv1'] = layers[0].jacobian[0]\n",
    "    jacobians['jb1'] = layers[0].jacobian[1]\n",
    "\n",
    "    gradients = res['gradients']\n",
    "    gradients['gz'] = mlp.gz\n",
    "    gradients['gv2'] = layers[2].gradient[0]\n",
    "    gradients['gb2'] = layers[2].gradient[1]\n",
    "    gradients['gq'] = layers[2].gradient[2]\n",
    "    gradients['gp'] = layers[1].gradient[0]\n",
    "    gradients['gv1'] = layers[0].gradient[0]\n",
    "    gradients['gb1'] = layers[0].gradient[1]\n",
    "    \n",
    "    return res\n",
    "\n",
    "def print_snapshot(n):\n",
    "    print(f\"Network {n}\\n\")\n",
    "    res = snapshot(tests[n])\n",
    "    \n",
    "    print(\"\\tForward Pass\\n\")\n",
    "    for key in res['inputs'].keys():\n",
    "        print(f\"\\t\\t{key}: {array_string(res['inputs'][key])}\\n\")\n",
    "    print(\"\\n\")\n",
    "    \n",
    "    print(\"\\tLocal Jacobians\\n\")\n",
    "    for key in res['jacobians'].keys():\n",
    "        print(f\"\\t\\t{key}: {array_string(res['jacobians'][key])}\\n\")\n",
    "    print(\"\\n\")\n",
    "    \n",
    "    print(\"\\tGradients\\n\")\n",
    "    for key in res['gradients'].keys():\n",
    "        print(f\"\\t\\t{key}: {array_string(res['gradients'][key])}\\n\")"
   ]
  },
  {
   "cell_type": "code",
   "execution_count": 119,
   "metadata": {},
   "outputs": [
    {
     "name": "stdout",
     "output_type": "stream",
     "text": [
      "Network 0\n",
      "\n",
      "\tForward Pass\n",
      "\n",
      "\t\tx: [-1.  2.]\n",
      "\n",
      "\t\tp: [-2.  5.  3.]\n",
      "\n",
      "\t\tq: [0. 5. 3.]\n",
      "\n",
      "\t\tz: [0. 3.]\n",
      "\n",
      "\t\tlambda: 10.0\n",
      "\n",
      "\n",
      "\n",
      "\tLocal Jacobians\n",
      "\n",
      "\t\tjv2: [[[0. 5. 3.]\n",
      "  [0. 0. 0.]]\n",
      "\n",
      " [[0. 0. 0.]\n",
      "  [0. 5. 3.]]]\n",
      "\n",
      "\t\tjb2: [[1. 0.]\n",
      " [0. 1.]]\n",
      "\n",
      "\t\tjq: [[ 2.  1. -3.]\n",
      " [ 3. -1.  2.]]\n",
      "\n",
      "\t\tjp: [[0. 0. 0.]\n",
      " [0. 1. 0.]\n",
      " [0. 0. 1.]]\n",
      "\n",
      "\t\tjv1: [[[-1.  2.]\n",
      "  [-0.  0.]\n",
      "  [-0.  0.]]\n",
      "\n",
      " [[-0.  0.]\n",
      "  [-1.  2.]\n",
      "  [-0.  0.]]\n",
      "\n",
      " [[-0.  0.]\n",
      "  [-0.  0.]\n",
      "  [-1.  2.]]]\n",
      "\n",
      "\t\tjb1: [[1. 0. 0.]\n",
      " [0. 1. 0.]\n",
      " [0. 0. 1.]]\n",
      "\n",
      "\n",
      "\n",
      "\tGradients\n",
      "\n",
      "\t\tgz: [4. 2.]\n",
      "\n",
      "\t\tgv2: [[ 0. 20. 12.]\n",
      " [ 0. 10.  6.]]\n",
      "\n",
      "\t\tgb2: [4. 2.]\n",
      "\n",
      "\t\tgq: [14.  2. -8.]\n",
      "\n",
      "\t\tgp: [ 0.  2. -8.]\n",
      "\n",
      "\t\tgv1: [[  0.   0.]\n",
      " [ -2.   4.]\n",
      " [  8. -16.]]\n",
      "\n",
      "\t\tgb1: [ 0.  2. -8.]\n",
      "\n"
     ]
    }
   ],
   "source": [
    "print_snapshot(0)"
   ]
  },
  {
   "cell_type": "code",
   "execution_count": 120,
   "metadata": {},
   "outputs": [
    {
     "name": "stdout",
     "output_type": "stream",
     "text": [
      "Network 1\n",
      "\n",
      "\tForward Pass\n",
      "\n",
      "\t\tx: [-1.  2.  0.]\n",
      "\n",
      "\t\tp: [-2.  1.]\n",
      "\n",
      "\t\tq: [0. 1.]\n",
      "\n",
      "\t\tz: 1.0\n",
      "\n",
      "\t\tlambda: 2.0\n",
      "\n",
      "\n",
      "\n",
      "\tLocal Jacobians\n",
      "\n",
      "\t\tjv2: [[[0. 1.]]]\n",
      "\n",
      "\t\tjb2: [[1.]]\n",
      "\n",
      "\t\tjq: [ 2. -3.]\n",
      "\n",
      "\t\tjp: [[0. 0.]\n",
      " [0. 1.]]\n",
      "\n",
      "\t\tjv1: [[[-1.  2.  0.]\n",
      "  [-0.  0.  0.]]\n",
      "\n",
      " [[-0.  0.  0.]\n",
      "  [-1.  2.  0.]]]\n",
      "\n",
      "\t\tjb1: [[1. 0.]\n",
      " [0. 1.]]\n",
      "\n",
      "\n",
      "\n",
      "\tGradients\n",
      "\n",
      "\t\tgz: -2.0\n",
      "\n",
      "\t\tgv2: [[[-0. -2.]]]\n",
      "\n",
      "\t\tgb2: [[-2.]]\n",
      "\n",
      "\t\tgq: [-4.  6.]\n",
      "\n",
      "\t\tgp: [0. 6.]\n",
      "\n",
      "\t\tgv1: [[ 0.  0.  0.]\n",
      " [-6. 12.  0.]]\n",
      "\n",
      "\t\tgb1: [0. 6.]\n",
      "\n"
     ]
    }
   ],
   "source": [
    "print_snapshot(1)"
   ]
  },
  {
   "cell_type": "code",
   "execution_count": 109,
   "metadata": {},
   "outputs": [
    {
     "name": "stdout",
     "output_type": "stream",
     "text": [
      "Network 2\n",
      "\n",
      "\tForward Pass\n",
      "\n",
      "\t\tx: [-1.  2.]\n",
      "\n",
      "\t\tp: [-2.  1.]\n",
      "\n",
      "\t\tq: [0. 1.]\n",
      "\n",
      "\t\tz: [-2.  3. -3.]\n",
      "\n",
      "\t\tlambda: 6.0091744845917345\n",
      "\n",
      "\n",
      "\n",
      "\tLocal Jacobians\n",
      "\n",
      "\t\tjv2: [[[0. 1.]\n",
      "  [0. 0.]\n",
      "  [0. 0.]]\n",
      "\n",
      " [[0. 0.]\n",
      "  [0. 1.]\n",
      "  [0. 0.]]\n",
      "\n",
      " [[0. 0.]\n",
      "  [0. 0.]\n",
      "  [0. 1.]]]\n",
      "\n",
      "\t\tjb2: [[1. 0. 0.]\n",
      " [0. 1. 0.]\n",
      " [0. 0. 1.]]\n",
      "\n",
      "\t\tjq: [[ 2. -3.]\n",
      " [ 1.  0.]\n",
      " [-1. -1.]]\n",
      "\n",
      "\t\tjp: [[0. 0.]\n",
      " [0. 1.]]\n",
      "\n",
      "\t\tjv1: [[[-1.  2.]\n",
      "  [-0.  0.]]\n",
      "\n",
      " [[-0.  0.]\n",
      "  [-1.  2.]]]\n",
      "\n",
      "\t\tjb1: [[1. 0.]\n",
      " [0. 1.]]\n",
      "\n",
      "\n",
      "\n",
      "\tGradients\n",
      "\n",
      "\t\tgz: [ 0.00667641  0.99086747 -0.99754389]\n",
      "\n",
      "\t\tgv2: [[ 0.          0.00667641]\n",
      " [ 0.          0.99086747]\n",
      " [ 0.         -0.99754389]]\n",
      "\n",
      "\t\tgb2: [ 0.00667641  0.99086747 -0.99754389]\n",
      "\n",
      "\t\tgq: [2.00176418 0.97751465]\n",
      "\n",
      "\t\tgp: [0.         0.97751465]\n",
      "\n",
      "\t\tgv1: [[ 0.          0.        ]\n",
      " [-0.97751465  1.9550293 ]]\n",
      "\n",
      "\t\tgb1: [0.         0.97751465]\n",
      "\n"
     ]
    }
   ],
   "source": [
    "print_snapshot(2)"
   ]
  },
  {
   "cell_type": "code",
   "execution_count": null,
   "metadata": {},
   "outputs": [],
   "source": []
  },
  {
   "cell_type": "code",
   "execution_count": null,
   "metadata": {},
   "outputs": [],
   "source": []
  }
 ],
 "metadata": {
  "celltoolbar": "Tags",
  "jupytext": {
   "cell_markers": "\"\"\""
  },
  "kernelspec": {
   "display_name": "Python 3 (ipykernel)",
   "language": "python",
   "name": "python3"
  },
  "language_info": {
   "codemirror_mode": {
    "name": "ipython",
    "version": 3
   },
   "file_extension": ".py",
   "mimetype": "text/x-python",
   "name": "python",
   "nbconvert_exporter": "python",
   "pygments_lexer": "ipython3",
   "version": "3.12.5"
  },
  "pycharm": {
   "stem_cell": {
    "cell_type": "raw",
    "metadata": {
     "collapsed": false
    },
    "source": []
   }
  }
 },
 "nbformat": 4,
 "nbformat_minor": 4
}
