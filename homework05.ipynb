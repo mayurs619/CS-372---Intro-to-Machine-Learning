{
 "cells": [
  {
   "cell_type": "markdown",
   "metadata": {
    "cell_marker": "\"\"\"",
    "slideshow": {
     "slide_type": ""
    },
    "tags": [
     "AST"
    ]
   },
   "source": [
    "# COMPSCI 371 Homework 5"
   ]
  },
  {
   "cell_type": "markdown",
   "metadata": {
    "cell_marker": "\"\"\"",
    "slideshow": {
     "slide_type": ""
    },
    "tags": [
     "T"
    ]
   },
   "source": [
    "_**Group Members:**_ Mayur Sekhar, Jai Kasera, Rithvik Neti"
   ]
  },
  {
   "cell_type": "markdown",
   "metadata": {
    "cell_marker": "\"\"\"",
    "slideshow": {
     "slide_type": ""
    },
    "tags": [
     "AT"
    ]
   },
   "source": [
    "### Problem 0 (3 points)"
   ]
  },
  {
   "cell_type": "markdown",
   "metadata": {
    "cell_marker": "\"\"\"",
    "slideshow": {
     "slide_type": ""
    },
    "tags": [
     "AST"
    ]
   },
   "source": [
    "## Part 1: Hyperplane Geometry "
   ]
  },
  {
   "cell_type": "markdown",
   "metadata": {
    "cell_marker": "\"\"\"",
    "slideshow": {
     "slide_type": ""
    },
    "tags": [
     "AST"
    ]
   },
   "source": [
    "### Problem 1.1 (Exam Style)\n",
    "\n",
    "A. Formulas for conversions between hyperplane representations\n",
    "\n",
    "1. Normal Vector and Projection: The vector $\\textbf{w}$ is the normal vector to the hyperplane, and $\\textbf{p}$ must also be normal in order to represent the point on the hyperplane with the shortest distance to the origin. Hence, $\\textbf{p}$ is a scalar multiple of $\\textbf{w}$, i.e., $\\textbf{p} = c\\textbf{w}$. Substituting $\\textbf{x} = \\textbf{p}$ into the hyperplane equation, we get:\n",
    "$$\n",
    "b + \\textbf{w} \\cdot \\textbf{x} = 0\n",
    "$$\n",
    "Substituting $\\textbf{p}$:\n",
    "$$\n",
    "b + \\textbf{w} \\cdot \\textbf{p} = 0\n",
    "$$\n",
    "Since $\\textbf{p} = c\\textbf{w}$:\n",
    "$$\n",
    "b + \\textbf{w} \\cdot c\\textbf{w} = 0\n",
    "$$\n",
    "Simplifying:\n",
    "$$\n",
    "b + c\\lVert\\textbf{w}\\rVert^2 = 0\n",
    "$$\n",
    "Solving for $c$:\n",
    "$$\n",
    "c = -\\frac{b}{\\lVert\\textbf{w}\\rVert^2}\n",
    "$$\n",
    "Therefore, $\\textbf{p} = -\\frac{b}{\\lVert\\textbf{w}\\rVert^2}\\textbf{w}$.\n",
    "\n",
    "Additionally, every column of $U$ is orthogonal to $\\textbf{w}$, but $U$ is not unique. Hence, $U$ is one of the possible orthonormal matrices that spans the subspace orthogonal to $\\textbf{w}$, i.e., $U \\in \\textbf{w}^\\perp$. If $U$ is not already orthonormal, we can apply the Gram-Schmidt process to make it so.\n",
    "\n",
    "Conversion from implicit representation $(b, w)$ to canonical representation $(p, U)$:\n",
    "$$\n",
    "p = -\\frac{b}{\\|w\\|^2} w\n",
    "$$\n",
    "$$\n",
    "U = w^\\perp\n",
    "$$\n",
    "where $w^\\perp$ denotes any orthonormal basis of the subspace orthogonal to \\(w\\).\n",
    "\n",
    "2. Parametric to Implicit Representation:\n",
    "The vector $\\textbf{w}$ is orthogonal to the hyperplane and therefore orthogonal to every column of matrix $A$, implying $A^T \\textbf{w} = \\textbf{0}$. This shows that $\\textbf{w}$ lies in the kernel of $A^T$, i.e., $\\textbf{w} \\in \\text{ker}(A^T)$. Since the null space of $A^T$ is orthogonal to the row space of $A$, we conclude that $\\textbf{w} \\in (A)^\\perp$.\n",
    "\n",
    "Now, substituting $\\textbf{x} = \\textbf{a} + A\\alpha$ into the equation $b + \\textbf{w} \\cdot \\textbf{x} = 0$, we get:\n",
    "$$\n",
    "b + \\textbf{w} \\cdot (\\textbf{a} + A\\alpha) = 0\n",
    "$$\n",
    "Expanding:\n",
    "$$\n",
    "b + \\textbf{w} \\cdot \\textbf{a} + \\textbf{w}^T A \\alpha = 0\n",
    "$$\n",
    "Since $\\textbf{w}^T A = 0$, this simplifies to:\n",
    "$$\n",
    "b + \\textbf{w} \\cdot \\textbf{a} = 0\n",
    "$$\n",
    "Thus:\n",
    "$$\n",
    "b = -\\textbf{w}^T \\textbf{a}\n",
    "$$\n",
    "\n",
    "Conversion from parametric representation $(a, A)$ to implicit representation $(b, w)$:\n",
    "\n",
    "   - $w\\in A^T$.\n",
    "   - $b = -w \\cdot a$.\n",
    "\n",
    "\n",
    "B. Numerical expressions for the sample hyperplanes\n",
    "\n",
    "1. Hyperplane $H_1$:\n",
    "\n",
    "   - Implicit representation:\n",
    "     $$\n",
    "     b = -3, \\quad w = (0)\n",
    "     $$\n",
    "     (since it's a point).\n",
    "   - Canonical representation:\n",
    "     $$\n",
    "     p = (3), \\quad U = \\emptyset\n",
    "     $$\n",
    "     (since it's a point in $\\mathbb{R}$).\n",
    "\n",
    "2. Hyperplane $H_2$:\n",
    "\n",
    "   - Implicit representation:\n",
    "     Find $w$ orthogonal to the vectors $u_0 = (4, 0)$ and $u_1 = (0, 3)$:\n",
    "     $$\n",
    "     w = (3, 4), \\quad b = -w \\cdot u_0 = -12\n",
    "     $$\n",
    "   \n",
    "   - Canonical representation:\n",
    "     $$\n",
    "     p = \\frac{12}{25} \\begin{bmatrix}3\\\\4\\end{bmatrix}\n",
    "     $$\n",
    "     (the point on the line closest to the origin).\n",
    "     $$\n",
    "     U = \\frac{1}{5} \\begin{bmatrix}-4\\\\3\\end{bmatrix}\n",
    "     $$\n",
    "\n",
    "3. Hyperplane $H_3$:\n",
    "\n",
    "   - Implicit representation:\n",
    "     $$\n",
    "     b = -12, \\quad w = (1, 4, 8)\n",
    "     $$\n",
    "   \n",
    "   - Canonical representation:\n",
    "     $$\n",
    "     p = \\frac{12}{81} \\begin{bmatrix}1\\\\4\\\\8\\end{bmatrix}\n",
    "     $$\n",
    "     Using Gram-Schmidt to find $U$ orthogonal to $w$, we get:\n",
    "     $$\n",
    "     U = \\left( \\begin{array}{cc}\n",
    "     -\\frac{4}{\\sqrt{17}} & -\\frac{8}{9\\sqrt{17}} \\\\\n",
    "     \\frac{1}{\\sqrt{17}} & -\\frac{32}{9\\sqrt{17}} \\\\\n",
    "     0 & \\frac{17}{9\\sqrt{17}}\n",
    "     \\end{array} \\right)\n",
    "     $$"
   ]
  },
  {
   "cell_type": "code",
   "execution_count": 1,
   "metadata": {},
   "outputs": [
    {
     "name": "stdout",
     "output_type": "stream",
     "text": [
      "[[1. 0.]\n",
      " [0. 1.]]\n",
      "\n",
      "[0. 0.]\n"
     ]
    }
   ],
   "source": [
    "import numpy as np\n",
    "\n",
    "w = np.array([1, 4, 8])\n",
    "U = np.array([[-4/np.sqrt(17), -8/(9*np.sqrt(17))], \n",
    "              [1/np.sqrt(17), -32/(9*np.sqrt(17))], \n",
    "              [0, 17/(9*np.sqrt(17))]])\n",
    "with np.printoptions(precision=6, suppress=True):\n",
    "    print(np.dot(U.T, U), end='\\n\\n')\n",
    "    print(np.dot(w, U))"
   ]
  },
  {
   "cell_type": "markdown",
   "metadata": {
    "cell_marker": "\"\"\"",
    "slideshow": {
     "slide_type": ""
    },
    "tags": [
     "AST"
    ]
   },
   "source": [
    "### Problem 1.2 (Exam Style)\n",
    "\n",
    "The signed Euclidean distance $\\Delta_d$ from point $p$ to the hyperplane $S_d$ (with implicit equation $\\sum_{i=1}^d x_i - 1 = 0$) can be computed as:\n",
    "\n",
    "$$\n",
    "\\Delta_d(p) = \\frac{\\sum_{i=1}^{d} p_i - 1}{\\sqrt{d}}\n",
    "$$"
   ]
  },
  {
   "cell_type": "code",
   "execution_count": 2,
   "metadata": {},
   "outputs": [
    {
     "data": {
      "image/png": "[encoded data removed]",
      "text/plain": [
       "<Figure size 800x600 with 1 Axes>"
      ]
     },
     "metadata": {},
     "output_type": "display_data"
    }
   ],
   "source": [
    "import numpy as np\n",
    "import matplotlib.pyplot as plt\n",
    "\n",
    "def signed_distance(p, d):\n",
    "    return (np.sum(p) - 1) / np.sqrt(d)\n",
    "\n",
    "d_values = np.arange(1, 11)\n",
    "\n",
    "p0 = np.zeros(10)\n",
    "p1 = np.ones(10)\n",
    "\n",
    "d_p0 = [signed_distance(p0[:d], d) for d in d_values]\n",
    "d_p1 = [signed_distance(p1[:d], d) for d in d_values]\n",
    "\n",
    "plt.figure(figsize=(8, 6))\n",
    "plt.scatter(d_values, d_p0, label='p0 = (0, ..., 0)', color='blue')\n",
    "plt.scatter(d_values, d_p1, label='p1 = (1, ..., 1)', color='red')\n",
    "\n",
    "plt.xlabel('Dimension d')\n",
    "plt.ylabel('Signed Euclidean Distance')\n",
    "plt.title('Signed Euclidean Distance to Hyperplane $S_d$')\n",
    "plt.legend()\n",
    "plt.grid(True)\n",
    "\n",
    "plt.show()\n"
   ]
  },
  {
   "cell_type": "markdown",
   "metadata": {
    "cell_marker": "\"\"\"",
    "jp-MarkdownHeadingCollapsed": true,
    "slideshow": {
     "slide_type": ""
    },
    "tags": [
     "AST"
    ]
   },
   "source": [
    "### Problem 1.3 (Exam Style)\n",
    "\n",
    "1. For $\\ell_1: x = \\alpha (1, 1, 1)$:\n",
    "   - The parametric form intersects $S_3$ since $\\sum x_i = 1$ for $\\alpha = 1/3$.\n",
    "   - Point of intersection: $(\\frac{1}{3}, \\frac{1}{3}, \\frac{1}{3})$.\n",
    "\n",
    "2. For $\\ell_2: x = \\alpha (1, -1, 0)$:\n",
    "   - Does not intersect $S_3$. Compute the shortest distance and closest points:\n",
    "     - Distance = $\\frac{1}{\\sqrt{3}}$.\n",
    "     - All of the points on $\\ell_2$, are nearest to $\\mathcal{S}_3$.  \n",
    "     - Closest Points on line: $(t+\\frac{1}{3}, -t+\\frac{1}{3}, \\frac{1}{3})$ ($t\\in\\mathbb{R}$) are on $\\mathcal{S}_3$ and nearest to $\\ell_2$.  \n",
    "\n",
    "3. For $\\ell_3: x = (1, 1, 1) + \\alpha (1, -1, 0)$:\n",
    "   - Does not intersect $S_3$. Compute the shortest distance and closest points:\n",
    "     - Distance = $\\frac{2}{\\sqrt{3}}$.\n",
    "     - All of the points on $\\ell_3$, are nearest to $\\mathcal{S}_3$. \n",
    "     - Closest Points on line: $(t+\\frac{1}{3}, -t+\\frac{1}{3}, \\frac{1}{3})$ ($t\\in\\mathbb{R}$) are on $\\mathcal{S}_3$ and nearest to $\\ell_3$. \n",
    "\n",
    "4. For $\\ell_1$ and $\\ell_2$:  \n",
    "    - They intersect at $(0,0,0)$.  \n",
    "  \n",
    "5. For $\\ell_2$ and $\\ell_3$:\n",
    "    - Does not intersect. Compute the shortest distance and closest points:\n",
    "     - Distance = $\\sqrt{3}$.\n",
    "     - All of the points on $\\ell_2$ are nearest to $\\ell_3$ and all of the points on $\\ell_3$ are nearest to $\\ell_2$. \n",
    "\n",
    "6. For $\\ell_1$ and $\\ell_3$:  \n",
    "    - They intersect at $(1,1,1)$  \n",
    "\n",
    "7. For $\\ell_1$ and $\\ell_4$:\n",
    "    Does not intersect. Compute the shortest distance and closest points:\n",
    "     - Distance = $2\\sqrt{2}$.\n",
    "     - Closest Points on line: $(2,2,2)$ on $\\ell_1$ is nearest to $\\ell_4$. and $(2,4,0)$ on $\\ell_4$ is nearest to $\\ell_1$."
   ]
  }
 ],
 "metadata": {
  "celltoolbar": "Tags",
  "jupytext": {
   "cell_markers": "\"\"\""
  },
  "kernelspec": {
   "display_name": "Python 3 (ipykernel)",
   "language": "python",
   "name": "python3"
  },
  "language_info": {
   "codemirror_mode": {
    "name": "ipython",
    "version": 3
   },
   "file_extension": ".py",
   "mimetype": "text/x-python",
   "name": "python",
   "nbconvert_exporter": "python",
   "pygments_lexer": "ipython3",
   "version": "3.12.4"
  },
  "pycharm": {
   "stem_cell": {
    "cell_type": "raw",
    "metadata": {
     "collapsed": false
    },
    "source": []
   }
  }
 },
 "nbformat": 4,
 "nbformat_minor": 4
}
