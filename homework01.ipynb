{
 "cells": [
  {
   "cell_type": "markdown",
   "metadata": {
    "cell_marker": "\"\"\"",
    "editable": true,
    "slideshow": {
     "slide_type": ""
    },
    "tags": [
     "AST"
    ]
   },
   "source": [
    "# COMPSCI 371 Homework 1"
   ]
  },
  {
   "cell_type": "markdown",
   "metadata": {
    "cell_marker": "\"\"\"",
    "editable": true,
    "slideshow": {
     "slide_type": ""
    },
    "tags": [
     "T"
    ]
   },
   "source": [
    "_**Group Members:**_ Mayur Sekhar, Rithvik Neti, Jai Kasera"
   ]
  },
  {
   "cell_type": "markdown",
   "metadata": {
    "cell_marker": "\"\"\"",
    "editable": true,
    "slideshow": {
     "slide_type": ""
    },
    "tags": [
     "AT"
    ]
   },
   "source": [
    "### Problem 0 (3 points)"
   ]
  },
  {
   "cell_type": "markdown",
   "metadata": {
    "cell_marker": "\"\"\"",
    "editable": true,
    "slideshow": {
     "slide_type": ""
    },
    "tags": [
     "AST"
    ]
   },
   "source": [
    "## Part 1: Problems in Machine Learning"
   ]
  },
  {
   "cell_type": "markdown",
   "metadata": {
    "cell_marker": "\"\"\"",
    "editable": true,
    "slideshow": {
     "slide_type": ""
    },
    "tags": [
     "AST"
    ]
   },
   "source": [
    "### Problem 1.1\n",
    "\n",
    "Find the total amount of pixels:\n",
    "\n",
    "$1000_{pixels} \\cdot 1000_{pixels} = 1000000_{pixels} $\n",
    "\n",
    "Find the total amount of possibilities per pixel:\n",
    "\n",
    "$256_{values \\, per \\, byte}  \\cdot 256_{values \\, per \\, byte} \\cdot 256_{values \\, per \\, byte} = 2^8 \\cdot 2^8 \\cdot 2^8 = 2^{24}_{values \\, per \\, pixel}$\n",
    "\n",
    "Solve for $i$:\n",
    "\n",
    "$i = (2^{24})^{1000000} = 2^{24000000}$\n",
    "\n",
    "Convert to base 10:\n",
    "\n",
    "$2^{24000000} = 10^{24000000 \\cdot \\log_{10}{2}}$\n",
    "\n",
    "$\\log_{10}{2} = \\approx 0.301$\n",
    "\n",
    "$24000000 \\cdot 0.301 \\approx 7200000$\n",
    "\n",
    "$i = 10^{7200000}$\n",
    "\n",
    "The number $i$ of possible images is $10^{7200000}$.\n",
    "\n",
    "Givens:\n",
    "\n",
    "$e = 14300000000000 = 1.43 \\cdot 10^{13} \\approx 10^{13}$\n",
    "\n",
    "$a = 10^{80}$\n",
    "\n",
    "$s = 27$ petabytes = $2.7 \\cdot 10^{16}$ bytes of storage for Google\n",
    "\n",
    "If Google used all its current storage just for images, and if all images had the format above, would Google be able to store all  $e$ images in existence today, without using any image compression methods?\n",
    "\n",
    "One small image has $1000000$ pixels which have $3$ bytes of data each which means that the small image as a whole takes $3000000$ bytes of data to be stored. If $e$ is the total amount of photographs in existance then $e \\cdot 3000000$ would Google be the total amount of storage needed to store all the photographs in existence without any image compression methods. \n",
    "\n",
    "$t = e \\cdot 3000000 = 4.29 \\cdot 10^{19}$\n",
    "\n",
    "The amount of storage that it would take to store all the photographs in existance wihtout any compression method is expressed above ($t$) and since it is greater than the amount of storage Google has ($t > s$), Google would not be able to store all the photographs in existence without any image compression methods.\n",
    "\n",
    "Is it possible to store $i$ images, if all of humanity's resources were devoted to this useless task? Can aliens help achieve this goal in this universe? \n",
    "\n",
    "No, it would not be possible to store $i$ images regardless if all of humanity's resources were devoted to the task, nor would aliens be able to achieve this goal as even if each image $i$ was the size of an atom $i$ images is still to big to fit in the universe ($i > a$)."
   ]
  },
  {
   "cell_type": "markdown",
   "metadata": {
    "cell_marker": "\"\"\"",
    "editable": true,
    "slideshow": {
     "slide_type": ""
    },
    "tags": [
     "AST"
    ]
   },
   "source": [
    "### Problem 1.2 (Exam Style)\n",
    "\n",
    "Is this a (i) supervised but not semi-supervised; (ii) semi-supervised; or (iii) unsupervised machine learning problem?\n",
    "\n",
    "Supervised but not semi-supervised\n",
    "\n",
    "Is the predictor a classifier or a regressor?\n",
    "\n",
    "Regressor"
   ]
  },
  {
   "cell_type": "markdown",
   "metadata": {
    "cell_marker": "\"\"\"",
    "editable": true,
    "slideshow": {
     "slide_type": ""
    },
    "tags": [
     "AST"
    ]
   },
   "source": [
    "### Problem 1.3 (Exam Style)\n",
    "\n",
    "Is this a (i) supervised but not semi-supervised; (ii) semi-supervised; or (iii) unsupervised machine learning problem?\n",
    "\n",
    "Supervised but not semi-supervised\n",
    "\n",
    "Is the predictor a classifier or a regressor?\n",
    "\n",
    "Classifier"
   ]
  },
  {
   "cell_type": "markdown",
   "metadata": {
    "cell_marker": "\"\"\"",
    "editable": true,
    "slideshow": {
     "slide_type": ""
    },
    "tags": [
     "AST"
    ]
   },
   "source": [
    "### Problem 1.4"
   ]
  },
  {
   "cell_type": "code",
   "execution_count": 101,
   "metadata": {
    "editable": true,
    "lines_to_next_cell": 1,
    "slideshow": {
     "slide_type": ""
    },
    "tags": [
     "AST",
     "hide-input"
    ]
   },
   "outputs": [],
   "source": [
    "import urllib.request\n",
    "import ssl\n",
    "from os import path as osp\n",
    "import shutil\n",
    "import numpy as np\n",
    "import matplotlib.pyplot as plt \n",
    "\n",
    "\n",
    "def retrieve(file_name, semester='fall24', homework=1):\n",
    "    if osp.exists(file_name):\n",
    "        print('Using previously downloaded file {}'.format(file_name))\n",
    "    else:\n",
    "        context = ssl._create_unverified_context()\n",
    "        fmt = 'https://www2.cs.duke.edu/courses/{}/compsci371/homework/{}/{}'\n",
    "        url = fmt.format(semester, homework, file_name)\n",
    "        with urllib.request.urlopen(url, context=context) as response:\n",
    "            with open(file_name, 'wb') as file:\n",
    "                \n",
    "                shutil.copyfileobj(response, file)\n",
    "        print('Downloaded file {}'.format(file_name))"
   ]
  },
  {
   "cell_type": "code",
   "execution_count": 102,
   "metadata": {
    "editable": true,
    "lines_to_next_cell": 2,
    "slideshow": {
     "slide_type": ""
    },
    "tags": [
     "AST"
    ]
   },
   "outputs": [
    {
     "name": "stdout",
     "output_type": "stream",
     "text": [
      "Using previously downloaded file points.pkl\n"
     ]
    }
   ],
   "source": [
    "import pickle\n",
    "\n",
    "# retrieve is defined in a hidden cell\n",
    "\n",
    "file_name = 'points.pkl'\n",
    "retrieve(file_name)\n",
    "with open(file_name, 'rb') as file:\n",
    "    points = pickle.load(file)\n",
    "\n",
    "sigma, min_size = 2, 5"
   ]
  },
  {
   "cell_type": "code",
   "execution_count": 103,
   "metadata": {},
   "outputs": [],
   "source": [
    "import math \n",
    "def euclidean_distance(point, points):\n",
    "    return np.linalg.norm(points - point, axis=1)\n",
    "    \n",
    "def ind(arrlist, array):\n",
    "    for i, arr in enumerate(arrlist):\n",
    "        if np.all(arr == array):\n",
    "            return i\n",
    "    return -1\n",
    "\n",
    "def step(m, t, sigma):\n",
    "    denom_sum = sum([math.exp(-np.linalg.norm(point - m)**2 / (2 * sigma**2)) for point in t])\n",
    "    \n",
    "    weighted_mean = np.zeros_like(m)\n",
    "    for point in t:\n",
    "        dist_squared = np.linalg.norm(point - m)**2\n",
    "        weight_factor = math.exp(-dist_squared / (2 * sigma**2)) / \\\n",
    "        denom_sum\n",
    "        weighted_mean += weight_factor * point\n",
    "    \n",
    "    return weighted_mean   \n",
    "\n",
    "def seek(m_old, t, sigma, max_iter=100):\n",
    "    m_new = m_old\n",
    "    for i in range(max_iter):\n",
    "        m_old = m_new\n",
    "        m_new = step(m_old, t, sigma)\n",
    "        if((np.linalg.norm(m_old - m_new)) > (sigma / 10)):\n",
    "            m_new = step(m_old, t, sigma)\n",
    "        else:\n",
    "            break\n",
    "    return m_new\n",
    "\n",
    "def cluster(t, sigma, min_size):\n",
    "    m = []\n",
    "    for i in range(0, len(t)):\n",
    "        m.append(seek(t[i], t, sigma))\n",
    "    centroids = [m[0]]  \n",
    "    cluster_members = [[t[0]]]\n",
    "\n",
    "    for i in range(1, len(t)):\n",
    "        \n",
    "        close_centroid_idx = np.argmin([np.linalg.norm(c - m[i]) \\\n",
    "                                        for c in centroids])\n",
    "        close_centroid = centroids[close_centroid_idx]\n",
    "\n",
    "        if np.linalg.norm(close_centroid - m[i]) < (sigma):\n",
    "            centroids[close_centroid_idx] = \\\n",
    "            (centroids[close_centroid_idx] + m[i]) / 2\n",
    "            cluster_members[close_centroid_idx].append(t[i])\n",
    "        else:\n",
    "            centroids.append(m[i])\n",
    "            cluster_members.append([t[i]])\n",
    "\n",
    "    valid_cents = []\n",
    "    valid_mems = []\n",
    "    for i, mems in enumerate(cluster_members):\n",
    "        if len(mems) >= min_size:\n",
    "            valid_cents.append(centroids[i])\n",
    "            valid_mems.append(mems)\n",
    "\n",
    "    return valid_cents, valid_mems"
   ]
  },
  {
   "cell_type": "code",
   "execution_count": 104,
   "metadata": {},
   "outputs": [
    {
     "data": {
      "image/png": "[encoded data removed]",
      "text/plain": [
       "<Figure size 640x480 with 1 Axes>"
      ]
     },
     "metadata": {},
     "output_type": "display_data"
    }
   ],
   "source": [
    "\n",
    "colors = ['red', 'blue', 'green', 'red', 'blue', \\\n",
    "          'green', 'red', 'blue', 'green', 'red', 'blue', 'green']\n",
    "\n",
    "\n",
    "\n",
    "clusters, pointss = cluster(points, sigma, min_size)\n",
    "counter = 0 \n",
    "\n",
    "for i, mode in enumerate(clusters):\n",
    "    cul = colors[i]\n",
    "    plt.scatter(mode[0], mode[1], color = cul, marker='+', s=500)\n",
    "    counter+=1\n",
    "\n",
    "for i, clus in enumerate(pointss):\n",
    "    cul = colors[i]\n",
    "    for point in clus:\n",
    "        plt.scatter(point[0], point[1], color = cul, marker=\".\", s=50)\n",
    "    counter+=1\n",
    "merge = sum(pointss, [])\n",
    "\n",
    "for point in points:\n",
    "    if not any(np.array_equal(point, m) for m in merge):\n",
    "        plt.scatter(point[0], point[1], marker=\".\", s=50, color='black')\n",
    "\n",
    "plt.axis('equal')\n",
    "plt.axis('off')\n",
    "plt.show()"
   ]
  },
  {
   "cell_type": "markdown",
   "metadata": {
    "cell_marker": "\"\"\"",
    "editable": true,
    "slideshow": {
     "slide_type": ""
    },
    "tags": [
     "AST"
    ]
   },
   "source": [
    "## Part 2: Voronoi Diagrams"
   ]
  },
  {
   "cell_type": "markdown",
   "metadata": {
    "cell_marker": "\"\"\"",
    "editable": true,
    "jp-MarkdownHeadingCollapsed": true,
    "slideshow": {
     "slide_type": ""
    },
    "tags": [
     "AST"
    ]
   },
   "source": [
    "### Problem 2.1 (Exam Style)\n",
    "\n",
    "a) The line $l_{pq}$ is the perpendicular bisector to the line that connects point $\\textbf{p}$ to point $\\textbf{q}$  ($\\overline{pq}$).\n",
    "\n",
    "b) The Voronoi vertex $\\textbf{v}$ is the circumcenter of the triangle that can be drawn by connections points $\\textbf{p}$, $\\textbf{q}$, and $\\textbf{r}$ ($\\triangle\\textbf{pqr}$). This means that $\\textbf{v}$ is equidistant from each of the pointsof the triangle ($\\textbf{p}$, $\\textbf{q}$, and $\\textbf{r}$) and is the intersection point of the perpendicular bisectors of each of lines of the triangle ($\\overline{pq}$, $\\overline{qr}$, and $\\overline{rp}$).\n",
    "\n",
    "c) There would no longer be a Voronoi vertex $\\textbf{v}$ is $\\textbf{r}$ was moved to the midpoint between $\\textbf{p}$ and $\\textbf{q}$ ($\\textbf{r'}= (\\textbf{p}+\\textbf{q}/2)$ because there would now only be two perpendicular bisectors between $\\overline{qr}$ and $\\overline{rp}$. Essentially there would be lines on either side of the new $\\textbf{r}$ but they would be parallel and thus never intersect to cause a Voronoi vertex."
   ]
  },
  {
   "cell_type": "markdown",
   "metadata": {
    "cell_marker": "\"\"\"",
    "editable": true,
    "slideshow": {
     "slide_type": ""
    },
    "tags": [
     "AST"
    ]
   },
   "source": [
    "### Problem 2.2 (Exam Style)\n",
    "\n",
    "Find the slope of the line $l_{pq}$: \n",
    "\n",
    "$m = - \\frac{q_0 - p_0}{q_1 - p_1}$\n",
    "\n",
    "Find the midpoint between $p$ and $q$:\n",
    "\n",
    "$b_0 = \\frac{(p_0 + q_0)}{2}$\n",
    "\n",
    "$b_1 = \\frac{(p_1 + q_1)}{2}$\n",
    "\n",
    "Write the line $l_{pq}$ in point-slope form with $m$ as the slope:\n",
    "\n",
    "$x_1 - b_1 = -\\frac{q_0 - p_0}{q_1 - p_1} (x_0 - b_0)$\n",
    "\n",
    "Multiply both sides by $q_1 - p_1$:\n",
    "\n",
    "$(q_1 - p_1) (x_1 - b_1) = - (q_0 - p_0) (x_0 - b_0)$\n",
    "\n",
    "Distribute:\n",
    "\n",
    "$(q_1 - p_1) x_1 - (q_1 - p_1) b_1 = - (q_0 - p_0) x_0 + (q_0 - p_0) b_0$\n",
    "\n",
    "Rearrange to put $x_0$ and $x_1$ on the same side:\n",
    "\n",
    "$(q_1 - p_1) x_1 + (q_0 - p_0) x_0 = (q_1 - p_1) b_1 + (q_0 - p_0) b_0$\n",
    "\n",
    "$(q_0 - p_0) x_0 + (q_1 - p_1) x_1  - ((q_1 - p_1) b_1 + (q_0 - p_0) b_0) = 0$\n",
    "\n",
    "$(q_0 - p_0) x_0 + (q_1 - p_1) x_1  - ((q_1 - p_1) (\\frac{(p_1 + q_1)}{2}) + (q_0 - p_0)(\\frac{(p_0 + q_0)}{2})) = 0$\n",
    "\n",
    "$(q_0 - p_0) x_0 + (q_1 - p_1) x_1  - (\\frac{(q_1^2 - p_1^2)}{2} + \\frac{(q_0^2 - p_0^2)}{2})$\n",
    "\n",
    "Match coefficients with line equation $a_0 x_0 + a_1 x_1 + a_2 = 0$:\n",
    "\n",
    "$a_0 = q_0 - p_0$\n",
    "\n",
    "$a_1 = q_1 - p_1$\n",
    "\n",
    "$a_2 = - (\\frac{(q_1^2 - p_1^2)}{2} + \\frac{(q_0^2 - p_0^2)}{2})$\n",
    "\n",
    "$\\therefore a_0, a_1,$ and $a_2$ satisfy $a_0 x_0 + a_1 x_1 + a_2 = 0$"
   ]
  },
  {
   "cell_type": "markdown",
   "metadata": {
    "cell_marker": "\"\"\"",
    "editable": true,
    "slideshow": {
     "slide_type": ""
    },
    "tags": [
     "AST"
    ]
   },
   "source": [
    "### Problem 2.3"
   ]
  },
  {
   "cell_type": "code",
   "execution_count": 105,
   "metadata": {},
   "outputs": [],
   "source": [
    "def edge(p, q):\n",
    "    \n",
    "    a = [q[0] - p[0], q[1] - p[1], -((1/2) * (q[1]**2 - p[1]**2) \\\n",
    "                                     + (1/2) * (q[0]**2 - p[0]**2))]\n",
    "    return np.array(a)"
   ]
  },
  {
   "cell_type": "code",
   "execution_count": 106,
   "metadata": {},
   "outputs": [],
   "source": [
    "def vertex(p, q, r):\n",
    "    a0,a1,a2 = edge(p,q) \n",
    "    b0,b1,b2 = edge(p,r) \n",
    "    #Only need 2 lines, since triangle \n",
    "    x1 = ((a2*b0) - (a0*b2))/((-a1*b0) + (a0*b1))\n",
    "    x0 = (-b2-(b1*(x1)))/b0\n",
    "    #Math done separately \n",
    "    return np.array([x0,x1]) \n",
    "\n",
    "\n",
    "    \n",
    "   \n"
   ]
  },
  {
   "cell_type": "code",
   "execution_count": 107,
   "metadata": {},
   "outputs": [
    {
     "name": "stdout",
     "output_type": "stream",
     "text": [
      "line coefficents for pq: [ 1.   0.  -0.5]\n",
      "line coefficents for qr: [-0.7    0.8    0.135]\n",
      "line coefficents for rp: [-0.3   -0.8    0.365]\n",
      "Voronoi vertex: [0.5   0.269]\n"
     ]
    }
   ],
   "source": [
    "p = (0, 0)\n",
    "q = (1, 0)\n",
    "r = (0.3, 0.8)\n",
    "with np.printoptions(precision=3):\n",
    "    print(\"line coefficents for pq: \" + str(edge(p, q)))\n",
    "    print(\"line coefficents for qr: \" + str(edge(q, r)))\n",
    "    print(\"line coefficents for rp: \" + str(edge(r, p)))\n",
    "    print(\"Voronoi vertex: \" + str(vertex(p, q, r)))\n",
    "\n"
   ]
  },
  {
   "cell_type": "code",
   "execution_count": 108,
   "metadata": {
    "scrolled": true
   },
   "outputs": [
    {
     "data": {
      "image/png": "[encoded data removed]",
      "text/plain": [
       "<Figure size 640x480 with 1 Axes>"
      ]
     },
     "metadata": {},
     "output_type": "display_data"
    }
   ],
   "source": [
    "for x,y in (p,q,r):\n",
    "    plt.scatter(x,y) \n",
    "pq, pr, rq = edge(p,q), edge(p,r), edge(r,q)\n",
    "\n",
    "x = np.linspace(-10, 10, 2)\n",
    "if pq[1] == 0:\n",
    "    plt.axvline(x=-pq[2] / pq[0])\n",
    "else:\n",
    "    plt.plot(x, (-pq[2] - pq[0] * x) / pq[1])\n",
    "if pr[1] == 0:\n",
    "    plt.axvline(x=-pr[2] / pq[0])\n",
    "else:\n",
    "    plt.plot(x, (-pr[2] - pr[0] * x) / pr[1])\n",
    "if rq[1] == 0:\n",
    "    plt.axvline(x=-rq[2] / rq[0])\n",
    "else:\n",
    "    plt.plot(x, (-rq[2] - rq[0] * x) / rq[1])\n",
    "\n",
    "vert = vertex(p,q,r) \n",
    "plt.scatter(vert[0], vert[1])\n",
    "\n",
    "\n",
    "\n",
    "plt.axis('equal')\n",
    "plt.axis('off')\n",
    "plt.xlim(-0.5,0.9)\n",
    "plt.ylim(-0.3,1.1)\n",
    "\n",
    "plt.show()"
   ]
  },
  {
   "cell_type": "markdown",
   "metadata": {
    "cell_marker": "\"\"\"",
    "editable": true,
    "slideshow": {
     "slide_type": ""
    },
    "tags": [
     "AST"
    ]
   },
   "source": [
    "## Part 3: Nearest-Neighbor Classification "
   ]
  },
  {
   "cell_type": "code",
   "execution_count": 109,
   "metadata": {
    "editable": true,
    "slideshow": {
     "slide_type": ""
    },
    "tags": [
     "AST"
    ]
   },
   "outputs": [
    {
     "name": "stdout",
     "output_type": "stream",
     "text": [
      "Using previously downloaded file pumpkin.pkl\n"
     ]
    }
   ],
   "source": [
    "pumpkin_file_name = 'pumpkin.pkl'\n",
    "retrieve(pumpkin_file_name)\n",
    "with open(pumpkin_file_name, 'rb') as file:\n",
    "    p = pickle.load(file)"
   ]
  },
  {
   "cell_type": "code",
   "execution_count": null,
   "metadata": {},
   "outputs": [],
   "source": []
  },
  {
   "cell_type": "markdown",
   "metadata": {
    "cell_marker": "\"\"\"",
    "editable": true,
    "slideshow": {
     "slide_type": ""
    },
    "tags": [
     "AST"
    ]
   },
   "source": [
    "### Problem 3.1: Standardization"
   ]
  },
  {
   "cell_type": "code",
   "execution_count": 110,
   "metadata": {},
   "outputs": [],
   "source": [
    "def calc_stats(d): \n",
    "    means = np.mean(d, axis=0)\n",
    "    stds = np.std(d, axis=0)\n",
    "    return means, stds "
   ]
  },
  {
   "cell_type": "code",
   "execution_count": 111,
   "metadata": {},
   "outputs": [
    {
     "name": "stdout",
     "output_type": "stream",
     "text": [
      "Training set:\n",
      "\tmeans: [ 0. -0. -0. -0. -0.  0.  0. -0. -0. -0.  0.  0.]\n",
      "\tstds: [1. 1. 1. 1. 1. 1. 1. 1. 1. 1. 1. 1.]\n",
      "Validation set:\n",
      "\tmeans: [-0.06 -0.06 -0.06 -0.02 -0.06 -0.06 -0.05 -0.04 -0.04  0.02 -0.02  0.03]\n",
      "\tstds: [0.99 0.99 1.01 1.04 0.99 0.99 1.09 1.14 1.04 1.05 1.05 1.06]\n",
      "Test set:\n",
      "\tmeans: [-0.05 -0.05 -0.06 -0.   -0.05 -0.05 -0.05 -0.01 -0.06  0.02 -0.03  0.04]\n",
      "\tstds: [0.96 0.94 0.93 1.08 0.96 0.97 1.08 0.81 1.02 0.98 1.01 1.02]\n"
     ]
    }
   ],
   "source": [
    "training = p.train.x \n",
    "validate = p.validate.x\n",
    "test = p.test.x\n",
    "\n",
    "rows, cols = training.shape[0], training.shape[1]\n",
    "\n",
    "means = np.mean(training, axis=0)\n",
    "stds = np.std(training, axis=0)\n",
    "\n",
    "for data_set in (training, validate, test):\n",
    "    data_set -= means\n",
    "    data_set /= stds\n",
    "\n",
    "\n",
    "training_stats, validate_stats, test_stats = \\\n",
    "calc_stats(training), calc_stats(validate), calc_stats(test)\n",
    "\n",
    "with np.printoptions(precision=2, suppress=True):\n",
    "    print('Training set:')\n",
    "    print('\\tmeans: {}'.format(training_stats[0]))\n",
    "    print('\\tstds: {}'.format(training_stats[1]))\n",
    "with np.printoptions(precision=2, suppress=True):\n",
    "    print('Validation set:')\n",
    "    print('\\tmeans: {}'.format(validate_stats[0]))\n",
    "    print('\\tstds: {}'.format(validate_stats[1]))\n",
    "with np.printoptions(precision=2, suppress=True):\n",
    "    print('Test set:')\n",
    "    print('\\tmeans: {}'.format(test_stats[0]))\n",
    "    print('\\tstds: {}'.format(test_stats[1]))\n"
   ]
  },
  {
   "cell_type": "markdown",
   "metadata": {
    "cell_marker": "\"\"\"",
    "editable": true,
    "slideshow": {
     "slide_type": ""
    },
    "tags": [
     "AST"
    ]
   },
   "source": [
    "### Problem 3.2: Validation"
   ]
  },
  {
   "cell_type": "code",
   "execution_count": 112,
   "metadata": {},
   "outputs": [
    {
     "data": {
      "image/png": "[encoded data removed]",
      "text/plain": [
       "<Figure size 640x480 with 1 Axes>"
      ]
     },
     "metadata": {},
     "output_type": "display_data"
    }
   ],
   "source": [
    "from sklearn.neighbors import KNeighborsClassifier\n",
    "maxScore = [0,0]\n",
    "scores = [] \n",
    "for k in range (1,33): \n",
    "    knn = KNeighborsClassifier (n_neighbors = k)\n",
    "    knn.fit(p.train.x, p.train.y)\n",
    "    score = knn.score(p.validate.x, p.validate.y) \n",
    "    scores.append(score) \n",
    "    if score > maxScore[0]:\n",
    "        maxScore[0] = score\n",
    "        maxScore[1] = k \n",
    "\n",
    "plt.scatter(list(range(1,33)), scores)\n",
    "plt.scatter(maxScore[1], maxScore[0], color=\"red\")\n",
    "plt.title(f'Best score = {maxScore[0]:.3f} with k = {maxScore[1]}')\n",
    "plt.xlabel('k')\n",
    "plt.ylabel('Score (%)')\n",
    "plt.show()"
   ]
  },
  {
   "cell_type": "markdown",
   "metadata": {
    "cell_marker": "\"\"\"",
    "editable": true,
    "slideshow": {
     "slide_type": ""
    },
    "tags": [
     "AST"
    ]
   },
   "source": [
    "### Problem 3.3: Testing"
   ]
  },
  {
   "cell_type": "code",
   "execution_count": 113,
   "metadata": {},
   "outputs": [
    {
     "name": "stdout",
     "output_type": "stream",
     "text": [
      "Accuracy on p.test = 0.866 with k = 18\n"
     ]
    }
   ],
   "source": [
    "best_model = KNeighborsClassifier(n_neighbors = maxScore[1])\n",
    "best_model.fit(p.train.x, p.train.y) \n",
    "score = knn.score(p.test.x, p.test.y)\n",
    "print(f'Accuracy on p.test = {score:.3f} with k = {maxScore[1]}')"
   ]
  },
  {
   "cell_type": "markdown",
   "metadata": {
    "cell_marker": "\"\"\"",
    "editable": true,
    "slideshow": {
     "slide_type": ""
    },
    "tags": [
     "AST"
    ]
   },
   "source": [
    "### Problem 3.4: Analysis (Exam Style)"
   ]
  },
  {
   "cell_type": "markdown",
   "metadata": {},
   "source": [
    "Compare the validation and test accuracy you obtained for the best predictor in the last two problems. Is the difference large, in your judgement?\n",
    "\n",
    "The accuracy on the validation set was 0.886, while the accuracy on the test set was 0.866. In our judgement, this difference of 0.220 is not large relative to the two values."
   ]
  },
  {
   "cell_type": "markdown",
   "metadata": {},
   "source": [
    "Why are the two values in the order they are, rather than in the reverse order?\n",
    "\n",
    "The accuracy on the validation set was slightly greater than that of the test set because the validation set was used to find the best value of k. We then used this value of k on the test set, even though there might exist a different value of k that would perform better on the test set. "
   ]
  },
  {
   "cell_type": "markdown",
   "metadata": {},
   "source": [
    "What does the discrepancy between the two values tell you about the training, validation, and test sets? Can you think of ways to improve these sets so that the two accuracy measures are likely to become closer?\n",
    "\n",
    "This discrepancy tells us that the validation set generalizes pretty well to the test set. If there was a large discrepancy between the accuracy on the validation set and test set, this could mean that the two sets have very different characteristics. In this example, the discrepancy was small which indicated that the validation set was a good representation of the test set.\n",
    "\n",
    "There are a few ways to possibly improve these sets so that the two accuracy measures are likely to become closer. K-fold cross validation could be done to get a more accurate estimate since we would be averaging the model performance over different validation folds. It is also important to make sure that the size of the validation set and test set are large enough, which would help make the data distributions of both the sets more similar. "
   ]
  }
 ],
 "metadata": {
  "celltoolbar": "Tags",
  "jupytext": {
   "cell_markers": "\"\"\""
  },
  "kernelspec": {
   "display_name": "Python 3 (ipykernel)",
   "language": "python",
   "name": "python3"
  },
  "language_info": {
   "codemirror_mode": {
    "name": "ipython",
    "version": 3
   },
   "file_extension": ".py",
   "mimetype": "text/x-python",
   "name": "python",
   "nbconvert_exporter": "python",
   "pygments_lexer": "ipython3",
   "version": "3.12.4"
  },
  "pycharm": {
   "stem_cell": {
    "cell_type": "raw",
    "metadata": {
     "collapsed": false
    },
    "source": []
   }
  }
 },
 "nbformat": 4,
 "nbformat_minor": 4
}
