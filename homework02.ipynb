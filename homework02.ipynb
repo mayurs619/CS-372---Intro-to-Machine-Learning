{
 "cells": [
  {
   "cell_type": "markdown",
   "metadata": {
    "cell_marker": "r\"\"\"",
    "slideshow": {
     "slide_type": ""
    },
    "tags": [
     "AST"
    ]
   },
   "source": [
    "<style>\n",
    "    @media print{\n",
    "        body {\n",
    "            position:relative !important;\n",
    "        }\n",
    "        .celltag_new_page {\n",
    "            page-break-before: always !important;\n",
    "        }\n",
    "    }\n",
    "</style>\n",
    "<div hidden>\n",
    "    $$\n",
    "    \\newcommand{\\reals}{\\mathbb{R}}\n",
    "    \\newcommand{\\naturals}{\\mathbb{N}}\n",
    "    \\newcommand{\\integers}{\\mathbb{Z}}\n",
    "    \\newcommand{\\prob}{\\mathbb{P}}\n",
    "    \\newcommand{\\expect}{\\mathbb{E}}\n",
    "    \\newcommand{\\b}[1]{\\mathbf{#1}}\n",
    "    \\newcommand{\\bs}[1]{\\boldsymbol{#1}}\n",
    "    \\newcommand{\\c}[1]{\\mathcal{#1}}\n",
    "    \\newcommand{mat}[2]{\\left[\\,\\begin{array}{#1}#2\\end{array}\\,\\right]}\n",
    "    $$\n",
    "</div>"
   ]
  },
  {
   "cell_type": "markdown",
   "metadata": {
    "cell_marker": "\"\"\"",
    "slideshow": {
     "slide_type": ""
    },
    "tags": [
     "AST"
    ]
   },
   "source": [
    "# COMPSCI 371 Homework 2"
   ]
  },
  {
   "cell_type": "markdown",
   "metadata": {
    "cell_marker": "\"\"\"",
    "slideshow": {
     "slide_type": ""
    },
    "tags": [
     "T"
    ]
   },
   "source": [
    "_**Group Members:**_ Mayur Sekhar, Jai Kasera, Rithvik Neti\n"
   ]
  },
  {
   "cell_type": "markdown",
   "metadata": {
    "cell_marker": "\"\"\"",
    "slideshow": {
     "slide_type": ""
    },
    "tags": [
     "AT"
    ]
   },
   "source": [
    "### Problem 0 (3 points)"
   ]
  },
  {
   "cell_type": "markdown",
   "metadata": {
    "cell_marker": "\"\"\"",
    "slideshow": {
     "slide_type": ""
    },
    "tags": [
     "AST"
    ]
   },
   "source": [
    "## Part 1: A Tiny Linear Regression Problem"
   ]
  },
  {
   "cell_type": "markdown",
   "metadata": {
    "cell_marker": "\"\"\"",
    "slideshow": {
     "slide_type": ""
    },
    "tags": [
     "AST"
    ]
   },
   "source": [
    "### Problem 1.1 (Exam Style)\n",
    "\n",
    "\n",
    "Power losses with odd positive integer powers (e.g., $l_p$ norms for $3,5,...$) are not adequate measures of loss because they can result in asymmetric penalization of positive and negative errors. Odd powers do not treat overestimation and underestimation equally, which is undesirable in most cases where both types of error are equally important.\n",
    "\n",
    "In contrast, even powers like $p=2$ (as in mean squared error) treat positive and negative deviations symmetrically, making them more suitable for measuring loss in many applications"
   ]
  },
  {
   "cell_type": "markdown",
   "metadata": {
    "cell_marker": "\"\"\"",
    "slideshow": {
     "slide_type": ""
    },
    "tags": [
     "AST"
    ]
   },
   "source": [
    "### Problem 1.2 (Exam Style)\n",
    "\n",
    "The $z$ value that would have the smallest residual risk is $z=0$. In this case, the value of the residual risk when $z = 0$ would also be $0$. The associated values of $b$ and $w$ for this given $z$ would also both be $0$. If $z=0$ then the function would simply be the horizontal line of the $x$ axis, and it would would have no loss as all the points of the data would be on the line."
   ]
  },
  {
   "cell_type": "markdown",
   "metadata": {
    "cell_marker": "\"\"\"",
    "slideshow": {
     "slide_type": ""
    },
    "tags": [
     "AST"
    ]
   },
   "source": [
    "### Problem 1.3 (Exam Style)\n",
    "\n",
    "To solve this problem, we need to write the total risk $L_T(v)$ as a function of the parameters $b$ and $w$, and then derive the normal equations by setting the gradients with respect to $b$ and $w$ to zero.\n",
    "\n",
    "The dataset is: $T = \\{(-1,0), (0,z), (1,0)\\}$. \n",
    "\n",
    "We aim to fit a line $y = mx + b$ and minimize the loss using the power loss $p$, where $p$ is a positive even integer.\n",
    "\n",
    "The loss for each point is given by:\n",
    "\n",
    "For $(x_1,y_1) = (-1,0)$:\n",
    "\n",
    "$L_1 = |w(-1) + b - 0|^p = |-w + b|^p$\n",
    "\n",
    "For $(x_2,y_2) = (0,z)$:\n",
    "\n",
    "$L_2 = |w(0) + b - z|^p = |b - z|^p$\n",
    "\n",
    "For $(x_3,y_3) = (1,0)$:\n",
    "\n",
    "$L_3 = |w(1) + b - 0|^p = |w + b|^p$\n",
    "\n",
    "Thus, the total risk $L_T(v)$ is the sum of these losses:\n",
    "\n",
    "$L_T(v) = \\frac{1}{3}|-w + b|^p + |b - z|^p + |w + b|^p$\n",
    "\n",
    "To minimize $L_T(v)$, we take the partial derivatives of $L_T(v)$ with respect to $b$ and $w$, and set them to zero.\n",
    "\n",
    "Derivative with respect to $b$:\n",
    "\n",
    "$\\frac{\\partial L_T}{\\partial b} = p \\cdot (-w + b)^{p-1} \\cdot 1 + p \\cdot (b - z)^{p-1} + p \\cdot (w + b)^{p-1} = 0$\n",
    "\n",
    "$\\implies p[(-w + b)^{p-1} + (b - z)^{p-1} + (w + b)^{p-1}] = 0$\n",
    "\n",
    "$\\implies (-w + b)^{p-1} + (b - z)^{p-1} + (w + b)^{p-1} = 0$\n",
    "\n",
    "Derivative with respect to $w$:\n",
    "\n",
    "$\\frac{\\partial L_T}{\\partial w} = p \\cdot (-w + b)^{p-1} \\cdot (-1) + p \\cdot (w + b)^{p-1} \\cdot 1 = 0$\n",
    "\n",
    "$\\implies p[(-w + b)^{p-1}(-1) + (w + b)^{p-1}] = 0$\n",
    "\n",
    "$\\implies (-w + b)^{p-1}(-1) + (w + b)^{p-1} = 0$\n",
    "\n",
    "Substitution in when $p = 2$:\n",
    "\n",
    "$\\frac{\\partial L_T}{\\partial b} = (-w + b)^{2-1} + (b - z)^{2-1} + (w + b)^{2-1} = 0$\n",
    "\n",
    "$\\frac{\\partial L_T}{\\partial b} = (-w + b)^{1} + (b - z)^{1} + (w + b)^{1} = 0$\n",
    "\n",
    "$\\frac{\\partial L_T}{\\partial b} = -w + b + b - z + w + b = 0$\n",
    "\n",
    "$\\frac{\\partial L_T}{\\partial b} = 3b - z = 0$\n",
    "\n",
    "$\\therefore b = \\frac{z}{3}$\n",
    "\n",
    "$\\frac{\\partial L_T}{\\partial w} = (-w + b)^{2-1}(-1) + (w + b)^{2-1} = 0$\n",
    "\n",
    "$\\frac{\\partial L_T}{\\partial w} = (-w + b)^{1}(-1) + (w + b)^{1} = 0$\n",
    "\n",
    "$\\frac{\\partial L_T}{\\partial w} = w - b + w + b = 0$\n",
    "\n",
    "$\\frac{\\partial L_T}{\\partial w} = 2w = 0$\n",
    "\n",
    "$\\therefore w = 0$\n",
    "\n",
    "Equation for $L_T(v)$:\n",
    "\n",
    "$L_T(v) = \\frac{1}{3}(|-w + b|^p + |b - z|^p + |w + b|^p)$\n",
    "\n",
    "$L_T(v) = \\frac{1}{3}(|0 + \\frac{z}{3}|^2 + |\\frac{z}{3} - z|^2 + |0 + \\frac{z}{3}|^2)$\n",
    "\n",
    "$L_T(v) = \\frac{1}{3} ((\\frac{z}{3})^2 + (\\frac{2z}{3})^2 + (\\frac{z}{3})^2)$\n",
    "\n",
    "$L_T(v) = \\frac{2z^2}{9}$\n",
    "\n",
    "Thus for $p = 2$ and arbitrary $z$ the solution to the normal equations is: $b = \\frac{z}{3}$ and $w = 0$. Thus, the best-fitting line is $y = \\frac{z}{3}$ Also, $L_T(v) = \\frac{2z^2}{9}$."
   ]
  },
  {
   "cell_type": "markdown",
   "metadata": {
    "cell_marker": "\"\"\"",
    "slideshow": {
     "slide_type": ""
    },
    "tags": [
     "AST"
    ]
   },
   "source": [
    "### Problem 1.4\n",
    "\n",
    "To find the optimal values of $w$ and $b$ when $p = 4$ in the regression problem, we start by using the same data:\n",
    "\n",
    "The dataset is: $T = \\{(-1,0), (0,z), (1,0)\\}$. \n",
    "\n",
    "The linear model is $y = mx+b$, and we aim to minimize the fourth power loss $p = 4$.\n",
    "\n",
    "The loss for each point is given by:\n",
    "\n",
    "For $(x_1,y_1) = (-1,0)$:\n",
    "\n",
    "$L_1 = |w(-1) + b - 0|^4 = |-w + b|^4$\n",
    "\n",
    "For $(x_2,y_2) = (0,z)$:\n",
    "\n",
    "$L_2 = |w(0) + b - z|^4 = |b - z|^4$\n",
    "\n",
    "For $(x_3,y_3) = (1,0)$:\n",
    "\n",
    "$L_3 = |w(1) + b - 0|^4 = |w + b|^4$\n",
    "\n",
    "Thus, the total risk $L_T(v)$ is the sum of these losses:\n",
    "\n",
    "$L_T(v) = |-w + b|^4 + |b - z|^4 + |w + b|^4$\n",
    "\n",
    "To minimize $L_T(v)$, we take the partial derivatives of $L_T(v)$ with respect to $b$ and $w$, and set them to zero.\n",
    "\n",
    "$b$: \n",
    "\n",
    "$\\frac{\\partial L_T}{\\partial b} = (-w + b)^{4-1} + (b - z)^{4-1} + (w + b)^{4-1} = 0$\n",
    "\n",
    "$\\frac{\\partial L_T}{\\partial b} = (-w + b)^{3} + (b - z)^{3} + (w + b)^{3} = 0$\n",
    "\n",
    "$w$:\n",
    "\n",
    "$\\frac{\\partial L_T}{\\partial w} = (-w + b)^{4-1}(-1) + (w + b)^{4-1} = 0$\n",
    "\n",
    "$\\frac{\\partial L_T}{\\partial w} = (-w + b)^{3}(-1) + (w + b)^{3} = 0$\n",
    "\n",
    "$(-w + b)^{3} = (w + b)^{3}$\n",
    "\n",
    "Solving $(-w + b)^{3} = (w + b)^{3}$\n",
    "\n",
    "This implies either: \n",
    "\n",
    "$-w + b = w + b$ which simplifies to $w = 0$, or \n",
    "\n",
    "$-w + b = -w - b$ which simplifies to $b = 0$.\n",
    "\n",
    "Since both can't be true at the same time, we first explore $w = 0$.\n",
    "\n",
    "Case 1: $w = 0$\n",
    "\n",
    "Substituting $w = 0$ into the equation for $b$: \n",
    "\n",
    "$b^3 + (b-z)^3 + b^3 = 0 $\n",
    "\n",
    "$\\Rightarrow 2b^3 + (b-z)^3 = 0$\n",
    "\n",
    "Using Wolfram Alpha, the only real solution to this cubic equation is $b=\\frac{1}{3}(1-\\sqrt[3]2+2^\\frac{2}{3})z$\n",
    "\n",
    "Numerically, this is equivalent to $0.44249z$.\n",
    "\n",
    "So when $w = 0$, we get:\n",
    "\n",
    "$b = 0.44249z$\n",
    "\n",
    "Case 2: $b = 0$\n",
    "\n",
    "Substituting $b = 0$ into the derivative with respect to $b$ yields: \n",
    "\n",
    "$(-w)^3 + (-z)^3 + (w)^3 = 0$\n",
    "\n",
    "$-w^3 + (-z)^3 + w^3 = 0$\n",
    "\n",
    "$-z^3 = 0 \\Rightarrow z = 0$\n",
    "\n",
    "In this case, if $z = 0$ then $b = 0$ and $w = 0$.\n",
    "\n",
    "Therefore the analytic solution for $p = 4$ and arbitrary $z$ is: \n",
    "\n",
    "$w = 0$\n",
    "\n",
    "$b = \\frac{1}{3}(1-\\sqrt[3]2+2^\\frac{2}{3})z = 0.44249z$\n",
    "\n",
    "In comparison to $p = 2$ where: \n",
    "\n",
    "$w = 0$\n",
    "\n",
    "$b = \\frac{z}{3}$\n",
    "\n",
    "Thus, for $p = 4$, the predictor $y = 0.44249z$ is closer to the second sample $(0,z)$ by 0.10916 than the predictor found for $p = 2$, where $y = \\frac{z}{3}$​. This is because the $p = 2$ model is farther from the second sample (it's \"pulled\" more towards the other points at $y = 0$)."
   ]
  },
  {
   "cell_type": "markdown",
   "metadata": {
    "cell_marker": "\"\"\"",
    "slideshow": {
     "slide_type": ""
    },
    "tags": [
     "AST"
    ]
   },
   "source": [
    "## Part 2: General Univariate Linear Regression "
   ]
  },
  {
   "cell_type": "markdown",
   "metadata": {
    "cell_marker": "\"\"\"",
    "slideshow": {
     "slide_type": ""
    },
    "tags": [
     "AST"
    ]
   },
   "source": [
    "To show that the least-squares solution given by:\n",
    "\n",
    "$$\n",
    "b = \\frac{s_y s_{xx} - s_x s_{xy}}{N s_{xx} - s_x^2}\n",
    "$$\n",
    "\n",
    "and\n",
    "\n",
    "$$\n",
    "w = \\frac{N s_{xy} - s_x s_y}{N s_{xx} - s_x^2}\n",
    "$$\n",
    "\n",
    "is equivalent to the solution of the normal equations:\n",
    "\n",
    "$$\n",
    "A^T A \\begin{bmatrix} b \\\\ w \\end{bmatrix} = A^T y,\n",
    "$$\n",
    "\n",
    "we proceed as follows:\n",
    "\n",
    "1. Set Up the Normal Equations\n",
    "\n",
    "Given:\n",
    "$$\n",
    "A = \\begin{bmatrix}\n",
    "1 & x_1 \\\\\n",
    "1 & x_2 \\\\\n",
    "\\vdots & \\vdots \\\\\n",
    "1 & x_N\n",
    "\\end{bmatrix},\n",
    "\\quad\n",
    "y = \\begin{bmatrix}\n",
    "y_1 \\\\\n",
    "y_2 \\\\\n",
    "\\vdots \\\\\n",
    "y_N\n",
    "\\end{bmatrix}\n",
    "$$\n",
    "\n",
    "The normal equations for least-squares regression are:\n",
    "\n",
    "$$\n",
    "A^T A \\begin{bmatrix} b \\\\ w \\end{bmatrix} = A^T y\n",
    "$$\n",
    "\n",
    "2. Compute $A^T A$\n",
    "\n",
    "First, compute \\( A^T \\):\n",
    "$$\n",
    "A^T = \\begin{bmatrix}\n",
    "1 & 1 & \\cdots & 1 \\\\\n",
    "x_1 & x_2 & \\cdots & x_N\n",
    "\\end{bmatrix}\n",
    "$$\n",
    "\n",
    "Next, compute \\( A^T A \\):\n",
    "$$\n",
    "A^T A = \\begin{bmatrix}\n",
    "\\sum_{n=1}^N 1 \\cdot 1 & \\sum_{n=1}^N 1 \\cdot x_n \\\\\n",
    "\\sum_{n=1}^N x_n \\cdot 1 & \\sum_{n=1}^N x_n \\cdot x_n\n",
    "\\end{bmatrix}\n",
    "= \\begin{bmatrix}\n",
    "N & \\sum_{n=1}^N x_n \\\\\n",
    "\\sum_{n=1}^N x_n & \\sum_{n=1}^N x_n^2\n",
    "\\end{bmatrix}\n",
    "$$\n",
    "\n",
    "3. Compute $A^T y$\n",
    "\n",
    "$$\n",
    "A^T y = \\begin{bmatrix}\n",
    "\\sum_{n=1}^N 1 \\cdot y_n \\\\\n",
    "\\sum_{n=1}^N x_n \\cdot y_n\n",
    "\\end{bmatrix}\n",
    "= \\begin{bmatrix}\n",
    "\\sum_{n=1}^N y_n \\\\\n",
    "\\sum_{n=1}^N x_n y_n\n",
    "\\end{bmatrix}\n",
    "$$\n",
    "\n",
    "4. Set Up the Normal Equations\n",
    "\n",
    "Substitute \\( A^T A \\) and \\( A^T y \\) into the normal equations:\n",
    "$$\n",
    "\\begin{bmatrix}\n",
    "N & \\sum_{n=1}^N x_n \\\\\n",
    "\\sum_{n=1}^N x_n & \\sum_{n=1}^N x_n^2\n",
    "\\end{bmatrix}\n",
    "\\begin{bmatrix}\n",
    "b \\\\\n",
    "w\n",
    "\\end{bmatrix}\n",
    "= \\begin{bmatrix}\n",
    "\\sum_{n=1}^N y_n \\\\\n",
    "\\sum_{n=1}^N x_n y_n\n",
    "\\end{bmatrix}\n",
    "$$\n",
    "\n",
    "5. Solve for $b$ and $w$\n",
    "\n",
    "The system of equations is:\n",
    "$$\n",
    "\\begin{aligned}\n",
    "N b + \\left( \\sum_{n=1}^N x_n \\right) w &= \\sum_{n=1}^N y_n \\\\\n",
    "\\left( \\sum_{n=1}^N x_n \\right) b + \\left( \\sum_{n=1}^N x_n^2 \\right) w &= \\sum_{n=1}^N x_n y_n\n",
    "\\end{aligned}\n",
    "$$\n",
    "\n",
    "Rearrange to solve for $b$ and $w$:\n",
    "1. Solve the first equation for $b$:\n",
    "$$\n",
    "b = \\frac{\\sum_{n=1}^N y_n - \\left( \\sum_{n=1}^N x_n \\right) w}{N}\n",
    "$$\n",
    "\n",
    "2. Substitute this expression for $b$ into the second equation:\n",
    "$$\n",
    "\\sum_{n=1}^N x_n \\left( \\frac{\\sum_{n=1}^N y_n - \\left( \\sum_{n=1}^N x_n \\right) w}{N} \\right) + \\left( \\sum_{n=1}^N x_n^2 \\right) w = \\sum_{n=1}^N x_n y_n\n",
    "$$\n",
    "$$\n",
    "\\frac{\\sum_{n=1}^N x_n \\sum_{n=1}^N y_n - \\left( \\sum_{n=1}^N x_n \\right)^2 w}{N} + \\left( \\sum_{n=1}^N x_n^2 \\right) w = \\sum_{n=1}^N x_n y_n\n",
    "$$\n",
    "$$\n",
    "\\sum_{n=1}^N x_n \\sum_{n=1}^N y_n - \\left( \\sum_{n=1}^N x_n \\right)^2 w + N \\left( \\sum_{n=1}^N x_n^2 \\right) w = N \\sum_{n=1}^N x_n y_n\n",
    "$$\n",
    "$$\n",
    "\\left( N \\sum_{n=1}^N x_n^2 - \\left( \\sum_{n=1}^N x_n \\right)^2 \\right) w = N \\sum_{n=1}^N x_n y_n - \\sum_{n=1}^N x_n \\sum_{n=1}^N y_n\n",
    "$$\n",
    "$$\n",
    "w = \\frac{N \\sum_{n=1}^N x_n y_n - \\sum_{n=1}^N x_n \\sum_{n=1}^N y_n}{N \\sum_{n=1}^N x_n^2 - \\left( \\sum_{n=1}^N x_n \\right)^2}\n",
    "$$\n",
    "\n",
    "3. Substitute $w$ back into the expression for $b$:\n",
    "$$\n",
    "b = \\frac{\\sum_{n=1}^N y_n - \\left( \\sum_{n=1}^N x_n \\right) \\left( \\frac{N \\sum_{n=1}^N x_n y_n - \\sum_{n=1}^N x_n \\sum_{n=1}^N y_n}{N \\sum_{n=1}^N x_n^2 - \\left( \\sum_{n=1}^N x_n \\right)^2} \\right)}{N}\n",
    "$$\n",
    "$$\n",
    "b = \\frac{\\sum_{n=1}^N y_n \\sum_{n=1}^N x_n^2 - \\sum_{n=1}^N x_n \\sum_{n=1}^N y_n\\sum_{n=1}^N x_n}{N \\sum_{n=1}^N x_n^2 - \\left( \\sum_{n=1}^N x_n \\right)^2}\n",
    "$$\n",
    "\n",
    "The least-squares solutions for \\( b \\) and \\( w \\) derived from the normal equations match the given formulas:\n",
    "\n",
    "$$\n",
    "\\begin{aligned}\n",
    "b &= \\frac{s_y s_{xx} - s_x s_{xy}}{N s_{xx} - s_x^2} \\\\\n",
    "w &= \\frac{N s_{xy} - s_x s_y}{N s_{xx} - s_x^2}\n",
    "\\end{aligned}\n",
    "$$\n",
    "\n",
    "where:\n",
    "\n",
    "$$\n",
    "\\begin{aligned}\n",
    "s_x &= \\sum_{n=1}^N x_n \\\\\n",
    "s_y &= \\sum_{n=1}^N y_n \\\\\n",
    "s_{xx} &= \\sum_{n=1}^N x_n^2 \\\\\n",
    "s_{xy} &= \\sum_{n=1}^N x_n y_n\n",
    "\\end{aligned}\n",
    "$$\n",
    "\n",
    "This confirms that the least-squares solution for the linear regression parameters \\( b \\) and \\( w \\) is consistent with the derived formulas using the normal equations.\n",
    "\n"
   ]
  },
  {
   "cell_type": "markdown",
   "metadata": {
    "cell_marker": "\"\"\"",
    "slideshow": {
     "slide_type": ""
    },
    "tags": [
     "AST"
    ]
   },
   "source": [
    "## Part 3: Automatic Differentiation "
   ]
  },
  {
   "cell_type": "code",
   "execution_count": 1,
   "metadata": {
    "slideshow": {
     "slide_type": ""
    },
    "tags": [
     "AST"
    ]
   },
   "outputs": [],
   "source": [
    "from autograd import numpy as anp\n",
    "from autograd import elementwise_grad as grad"
   ]
  },
  {
   "cell_type": "code",
   "execution_count": 2,
   "metadata": {
    "slideshow": {
     "slide_type": ""
    },
    "tags": [
     "AST"
    ]
   },
   "outputs": [],
   "source": [
    "def bumps(z):\n",
    "    assert len(z) == 2, 'input must be 2D'\n",
    "    u, v = z[0], z[1]\n",
    "    a = (4 - 2.1 * u ** 2 + (u ** 4) / 3) * u ** 2\n",
    "    b = u * v\n",
    "    c = (-4 + 4 * v ** 2) * v ** 2\n",
    "    return a + b + c"
   ]
  },
  {
   "cell_type": "code",
   "execution_count": 3,
   "metadata": {
    "slideshow": {
     "slide_type": ""
    },
    "tags": [
     "AST"
    ]
   },
   "outputs": [],
   "source": [
    "import numpy as snp\n",
    "\n",
    "\n",
    "x_min, x_max, y_min, y_max = -2.1, 2.1, -1.2, 1.2\n",
    "n = 301\n",
    "xx, yy = snp.linspace(x_min, x_max, n), snp.linspace(y_min, y_max, n)\n",
    "x = snp.array(snp.meshgrid(xx, yy))"
   ]
  },
  {
   "cell_type": "code",
   "execution_count": 4,
   "metadata": {
    "slideshow": {
     "slide_type": ""
    },
    "tags": [
     "AST"
    ]
   },
   "outputs": [],
   "source": [
    "import urllib.request\n",
    "import ssl\n",
    "from os import path as osp\n",
    "import shutil\n",
    "\n",
    "\n",
    "def retrieve(file_name, semester='fall24', homework=2):\n",
    "    if osp.exists(file_name):\n",
    "        print('Using previously downloaded file {}'.format(file_name))\n",
    "    else:\n",
    "        context = ssl._create_unverified_context()\n",
    "        fmt = 'https://www2.cs.duke.edu/courses/{}/compsci371/homework/{}/{}'\n",
    "        url = fmt.format(semester, homework, file_name)\n",
    "        with urllib.request.urlopen(url, context=context) as response:\n",
    "            with open(file_name, 'wb') as file:\n",
    "                shutil.copyfileobj(response, file)\n",
    "        print('Downloaded file {}'.format(file_name))"
   ]
  },
  {
   "cell_type": "code",
   "execution_count": 5,
   "metadata": {
    "slideshow": {
     "slide_type": ""
    },
    "tags": [
     "AST"
    ]
   },
   "outputs": [
    {
     "name": "stdout",
     "output_type": "stream",
     "text": [
      "Using previously downloaded file helpers.py\n"
     ]
    }
   ],
   "source": [
    "retrieve('helpers.py')"
   ]
  },
  {
   "cell_type": "code",
   "execution_count": 6,
   "metadata": {
    "slideshow": {
     "slide_type": ""
    },
    "tags": [
     "AST"
    ]
   },
   "outputs": [],
   "source": [
    "from helpers import fixed_axis_figure\n",
    "from matplotlib import pyplot as plt\n",
    "%matplotlib inline"
   ]
  },
  {
   "cell_type": "markdown",
   "metadata": {
    "cell_marker": "\"\"\"",
    "slideshow": {
     "slide_type": ""
    },
    "tags": [
     "AST"
    ]
   },
   "source": [
    "### Problem 3.1"
   ]
  },
  {
   "cell_type": "code",
   "execution_count": 7,
   "metadata": {
    "slideshow": {
     "slide_type": ""
    },
    "tags": [
     "AST"
    ]
   },
   "outputs": [],
   "source": [
    "step = 10\n",
    "s = x[:, ::step, ::step]"
   ]
  },
  {
   "cell_type": "code",
   "execution_count": 8,
   "metadata": {
    "slideshow": {
     "slide_type": ""
    },
    "tags": [
     "AST"
    ]
   },
   "outputs": [
    {
     "data": {
      "text/plain": [
       "Text(0, 0.5, '$x_1$')"
      ]
     },
     "execution_count": 8,
     "metadata": {},
     "output_type": "execute_result"
    },
    {
     "data": {
      "image/png": "[encoded data removed]",
      "text/plain": [
       "<Figure size 710x420 with 1 Axes>"
      ]
     },
     "metadata": {},
     "output_type": "display_data"
    }
   ],
   "source": [
    "margin = 0.25\n",
    "quiver_box = snp.array([x_min, x_max, y_min, y_max])\n",
    "quiver_box[2:] = quiver_box[2:] + margin\n",
    "\n",
    "g = grad(bumps) \n",
    "gradients = g(s) \n",
    "\n",
    "ax = fixed_axis_figure(quiver_box, scale=1.5)[1]\n",
    "ax.quiver(s[0], s[1], gradients[0], gradients[1])\n",
    "plt.xlabel(r'$x_0$')\n",
    "plt.ylabel(r'$x_1$')\n",
    "\n"
   ]
  },
  {
   "cell_type": "markdown",
   "metadata": {
    "cell_marker": "\"\"\"",
    "slideshow": {
     "slide_type": ""
    },
    "tags": [
     "AST"
    ]
   },
   "source": [
    "## Part 4: Gradient Descent "
   ]
  },
  {
   "cell_type": "code",
   "execution_count": 9,
   "metadata": {
    "slideshow": {
     "slide_type": ""
    },
    "tags": [
     "AST"
    ]
   },
   "outputs": [],
   "source": [
    "from helpers import Stepper\n",
    "from autograd import numpy as anp\n",
    "\n",
    "\n",
    "def gradient_descent(\n",
    "    f, z, alpha, min_step=1.e-6, max_iter=10000, history=False, **kwargs\n",
    "):\n",
    "    step = Stepper(f, z, alpha, history=history, **kwargs)\n",
    "    z, fz, gz = anp.copy(z), step.fz0, step.gz0\n",
    "    for k in range(max_iter):\n",
    "        s, z, fz, gz = step(z, **kwargs)\n",
    "        if anp.linalg.norm(s) < min_step:\n",
    "            break\n",
    "    step.show_history()\n",
    "    return fz, z, k"
   ]
  },
  {
   "cell_type": "code",
   "execution_count": 10,
   "metadata": {
    "slideshow": {
     "slide_type": ""
    },
    "tags": [
     "AST"
    ]
   },
   "outputs": [],
   "source": [
    "alpha = 1.e-3"
   ]
  },
  {
   "cell_type": "markdown",
   "metadata": {
    "cell_marker": "\"\"\"",
    "slideshow": {
     "slide_type": ""
    },
    "tags": [
     "AST"
    ]
   },
   "source": [
    "### Problem 4.1"
   ]
  },
  {
   "cell_type": "code",
   "execution_count": 11,
   "metadata": {
    "slideshow": {
     "slide_type": ""
    },
    "tags": [
     "AST"
    ]
   },
   "outputs": [],
   "source": [
    "v0 = anp.array((1, 1), dtype=float)"
   ]
  },
  {
   "cell_type": "code",
   "execution_count": 12,
   "metadata": {
    "slideshow": {
     "slide_type": ""
    },
    "tags": [
     "AST"
    ]
   },
   "outputs": [],
   "source": [
    "x = anp.array([-1, 0, 1], dtype=float)[:, None]"
   ]
  },
  {
   "cell_type": "code",
   "execution_count": 13,
   "metadata": {
    "slideshow": {
     "slide_type": ""
    },
    "tags": [
     "AST"
    ]
   },
   "outputs": [],
   "source": [
    "y = anp.array([0, 1, 0], dtype=float)"
   ]
  },
  {
   "cell_type": "code",
   "execution_count": 14,
   "metadata": {},
   "outputs": [
    {
     "name": "stdout",
     "output_type": "stream",
     "text": [
      "p = 2: [b, w] = [0.3333 0.0007]  0.2222\n",
      "p = 4: [b, w] = [0.4425 0.0006]  0.0578\n",
      "p = 6: [b, w] = [0.4654 0.0011]  0.0146\n"
     ]
    }
   ],
   "source": [
    "def p_risk(v, x=x, y=y, p=2): \n",
    "    b, w = v[0], v[1:]\n",
    "    y_pred = b + w * x.flatten()\n",
    "    return anp.mean((y_pred - y)**p)\n",
    "\n",
    "for p in (2,4,6): \n",
    "    risk_ast, v_ast, iterations =  \\\n",
    "        gradient_descent(p_risk, v0, alpha, x=x, y=y, p=p)\n",
    "    with snp.printoptions(precision=4, suppress=True):\n",
    "        print(f'p = {p}: [b, w] = {v_ast} {risk_ast: .4f}')"
   ]
  }
 ],
 "metadata": {
  "celltoolbar": "Tags",
  "jupytext": {
   "cell_markers": "\"\"\""
  },
  "kernelspec": {
   "display_name": "Python 3 (ipykernel)",
   "language": "python",
   "name": "python3"
  },
  "language_info": {
   "codemirror_mode": {
    "name": "ipython",
    "version": 3
   },
   "file_extension": ".py",
   "mimetype": "text/x-python",
   "name": "python",
   "nbconvert_exporter": "python",
   "pygments_lexer": "ipython3",
   "version": "3.12.6"
  },
  "pycharm": {
   "stem_cell": {
    "cell_type": "raw",
    "metadata": {
     "collapsed": false
    },
    "source": []
   }
  }
 },
 "nbformat": 4,
 "nbformat_minor": 4
}
